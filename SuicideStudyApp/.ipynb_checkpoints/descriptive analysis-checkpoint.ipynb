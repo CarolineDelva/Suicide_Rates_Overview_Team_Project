{
 "cells": [
  {
   "cell_type": "code",
   "execution_count": 2,
   "metadata": {},
   "outputs": [],
   "source": [
    "\n",
    "#from __future__ import print_function\n",
    "from flask import Flask\n",
    "# from config import api_key \n",
    "\n",
    "import pandas as pd\n",
    "import numpy as numpy\n",
    "\n",
    "import sqlalchemy\n",
    "from sqlalchemy.ext.automap import automap_base\n",
    "from sqlalchemy.orm import Session\n",
    "from sqlalchemy import create_engine \n",
    "\n",
    "from flask import Flask, jsonify, render_template\n",
    "from flask_sqlalchemy import SQLAlchemy\n",
    "\n",
    "import requests \n",
    "import json\n",
    "from config import api_key\n",
    "from config import google_api_key\n",
    "import scipy.stats as stats\n",
    "from scipy.stats import sem, ttest_ind, linregress\n"
   ]
  },
  {
   "cell_type": "code",
   "execution_count": 4,
   "metadata": {},
   "outputs": [
    {
     "data": {
      "text/html": [
       "<div>\n",
       "<style scoped>\n",
       "    .dataframe tbody tr th:only-of-type {\n",
       "        vertical-align: middle;\n",
       "    }\n",
       "\n",
       "    .dataframe tbody tr th {\n",
       "        vertical-align: top;\n",
       "    }\n",
       "\n",
       "    .dataframe thead th {\n",
       "        text-align: right;\n",
       "    }\n",
       "</style>\n",
       "<table border=\"1\" class=\"dataframe\">\n",
       "  <thead>\n",
       "    <tr style=\"text-align: right;\">\n",
       "      <th></th>\n",
       "      <th>year</th>\n",
       "      <th>country</th>\n",
       "      <th>suicides_no</th>\n",
       "    </tr>\n",
       "  </thead>\n",
       "  <tbody>\n",
       "    <tr>\n",
       "      <th>0</th>\n",
       "      <td>1994</td>\n",
       "      <td>Russian Federation</td>\n",
       "      <td>5118.333333</td>\n",
       "    </tr>\n",
       "    <tr>\n",
       "      <th>1</th>\n",
       "      <td>1995</td>\n",
       "      <td>Russian Federation</td>\n",
       "      <td>5045.666667</td>\n",
       "    </tr>\n",
       "    <tr>\n",
       "      <th>2</th>\n",
       "      <td>1996</td>\n",
       "      <td>Russian Federation</td>\n",
       "      <td>4792.583333</td>\n",
       "    </tr>\n",
       "    <tr>\n",
       "      <th>3</th>\n",
       "      <td>1999</td>\n",
       "      <td>Russian Federation</td>\n",
       "      <td>4747.833333</td>\n",
       "    </tr>\n",
       "    <tr>\n",
       "      <th>4</th>\n",
       "      <td>2001</td>\n",
       "      <td>Russian Federation</td>\n",
       "      <td>4746.500000</td>\n",
       "    </tr>\n",
       "  </tbody>\n",
       "</table>\n",
       "</div>"
      ],
      "text/plain": [
       "   year             country  suicides_no\n",
       "0  1994  Russian Federation  5118.333333\n",
       "1  1995  Russian Federation  5045.666667\n",
       "2  1996  Russian Federation  4792.583333\n",
       "3  1999  Russian Federation  4747.833333\n",
       "4  2001  Russian Federation  4746.500000"
      ]
     },
     "execution_count": 4,
     "metadata": {},
     "output_type": "execute_result"
    }
   ],
   "source": [
    "POSTGRES = {\n",
    "'user': 'postgres',\n",
    "'pw': api_key,\n",
    "'db': 'suicide_rates_overview_db',\n",
    "'host': 'localhost',\n",
    "'port': '5432',\n",
    "}\n",
    "\n",
    "engine = create_engine('postgresql://%(user)s:%(pw)s@%(host)s:%(port)s/%(db)s'% POSTGRES)\n",
    "df_suicide_rates_df = pd.read_sql('select * from suicides_rates_db', con=engine)\n",
    "year_suicide_rates_df = df_suicide_rates_df.groupby([\"year\", 'country']).agg({\"suicides_no\": \"mean\"})\n",
    "year_suicide_rates_df = year_suicide_rates_df.sort_values(by='suicides_no', ascending=False)\n",
    "year_suicide_rates_df = year_suicide_rates_df.reset_index()\n",
    "year_suicide_rates_df.head()"
   ]
  },
  {
   "cell_type": "code",
   "execution_count": 16,
   "metadata": {},
   "outputs": [
    {
     "data": {
      "text/plain": [
       "LinregressResult(slope=-75.02757427757426, intercept=153938.97530864194, rvalue=-0.6340825889686899, pvalue=0.0003830497155472215, stderr=18.299263528703346)"
      ]
     },
     "execution_count": 16,
     "metadata": {},
     "output_type": "execute_result"
    }
   ],
   "source": [
    "russianfederation = year_suicide_rates_df.loc[year_suicide_rates_df['country'] == 'Russian Federation']\n",
    "russianfederation.head()\n",
    "year = russianfederation['year']\n",
    "year.head()\n",
    "russianfederationsuicideno = russianfederation['suicides_no']\n",
    "russianfederationsuicideno.head()\n",
    "linregress(year, russianfederationsuicideno)"
   ]
  },
  {
   "cell_type": "code",
   "execution_count": 22,
   "metadata": {},
   "outputs": [
    {
     "data": {
      "text/plain": [
       "LinregressResult(slope=32.86216397849463, intercept=-62944.72311827959, rvalue=0.8326902763575907, pvalue=6.2569259984995926e-09, stderr=4.058063092609682)"
      ]
     },
     "execution_count": 22,
     "metadata": {},
     "output_type": "execute_result"
    }
   ],
   "source": [
    "us = year_suicide_rates_df.loc[year_suicide_rates_df['country'] == 'United States']\n",
    "us.head()\n",
    "year = us['year']\n",
    "year.head()\n",
    "ussuicideno = us['suicides_no']\n",
    "ussuicideno.head()\n",
    "linregress(year, ussuicideno)"
   ]
  },
  {
   "cell_type": "code",
   "execution_count": 24,
   "metadata": {},
   "outputs": [
    {
     "data": {
      "text/plain": [
       "LinregressResult(slope=21.205880376344084, intercept=-40242.669354838705, rvalue=0.5525213680209462, pvalue=0.0012682814486798363, stderr=5.940365590727109)"
      ]
     },
     "execution_count": 24,
     "metadata": {},
     "output_type": "execute_result"
    }
   ],
   "source": [
    "japan = year_suicide_rates_df.loc[year_suicide_rates_df['country'] == 'Japan']\n",
    "japan.head()\n",
    "year = japan['year']\n",
    "year.head()\n",
    "japansuicideno = japan['suicides_no']\n",
    "japansuicideno.head()\n",
    "linregress(year, japansuicideno)"
   ]
  },
  {
   "cell_type": "code",
   "execution_count": 27,
   "metadata": {},
   "outputs": [
    {
     "data": {
      "text/plain": [
       "LinregressResult(slope=40.01854838709677, intercept=-79333.52150537634, rvalue=0.9535557467325387, pvalue=1.1850922358453356e-16, stderr=2.3474434621915607)"
      ]
     },
     "execution_count": 27,
     "metadata": {},
     "output_type": "execute_result"
    }
   ],
   "source": [
    "korea = year_suicide_rates_df.loc[year_suicide_rates_df['country'] == 'Republic of Korea']\n",
    "korea.head()\n",
    "year = korea['year']\n",
    "year.head()\n",
    "koreasuicideno = korea['suicides_no']\n",
    "koreasuicideno.head()\n",
    "linregress(year, koreasuicideno)"
   ]
  },
  {
   "cell_type": "code",
   "execution_count": 28,
   "metadata": {},
   "outputs": [
    {
     "data": {
      "text/plain": [
       "LinregressResult(slope=-11.00865866626158, intercept=22975.84013747531, rvalue=-0.48736299272618716, pvalue=0.008525886214444223, stderr=3.8681975618162165)"
      ]
     },
     "execution_count": 28,
     "metadata": {},
     "output_type": "execute_result"
    }
   ],
   "source": [
    "ukraine = year_suicide_rates_df.loc[year_suicide_rates_df['country'] == 'Ukraine']\n",
    "ukraine.head()\n",
    "year = ukraine['year']\n",
    "year.head()\n",
    "ukrainesuicideno = ukraine['suicides_no']\n",
    "ukrainesuicideno.head()\n",
    "linregress(year, ukrainesuicideno)"
   ]
  },
  {
   "cell_type": "code",
   "execution_count": 14,
   "metadata": {},
   "outputs": [
    {
     "data": {
      "text/plain": [
       "0    5118.333333\n",
       "1    5045.666667\n",
       "2    4792.583333\n",
       "3    4747.833333\n",
       "4    4746.500000\n",
       "Name: suicides_no, dtype: float64"
      ]
     },
     "execution_count": 14,
     "metadata": {},
     "output_type": "execute_result"
    }
   ],
   "source": [
    "russianfederationsuicideno = russianfederation['suicides_no']\n",
    "russianfederationsuicideno.head()"
   ]
  },
  {
   "cell_type": "code",
   "execution_count": 15,
   "metadata": {},
   "outputs": [
    {
     "data": {
      "text/plain": [
       "LinregressResult(slope=-75.02757427757426, intercept=153938.97530864194, rvalue=-0.6340825889686899, pvalue=0.0003830497155472215, stderr=18.299263528703346)"
      ]
     },
     "execution_count": 15,
     "metadata": {},
     "output_type": "execute_result"
    }
   ],
   "source": [
    "linregress(year, russianfederationsuicideno)"
   ]
  },
  {
   "cell_type": "code",
   "execution_count": null,
   "metadata": {},
   "outputs": [],
   "source": []
  },
  {
   "cell_type": "code",
   "execution_count": 35,
   "metadata": {},
   "outputs": [
    {
     "data": {
      "text/html": [
       "<div>\n",
       "<style scoped>\n",
       "    .dataframe tbody tr th:only-of-type {\n",
       "        vertical-align: middle;\n",
       "    }\n",
       "\n",
       "    .dataframe tbody tr th {\n",
       "        vertical-align: top;\n",
       "    }\n",
       "\n",
       "    .dataframe thead th {\n",
       "        text-align: right;\n",
       "    }\n",
       "</style>\n",
       "<table border=\"1\" class=\"dataframe\">\n",
       "  <thead>\n",
       "    <tr style=\"text-align: right;\">\n",
       "      <th></th>\n",
       "      <th>id</th>\n",
       "      <th>country</th>\n",
       "      <th>year</th>\n",
       "      <th>sex</th>\n",
       "      <th>age</th>\n",
       "      <th>suicides_no</th>\n",
       "      <th>population</th>\n",
       "      <th>suicideshundredk</th>\n",
       "      <th>country_year</th>\n",
       "      <th>hdiforyear</th>\n",
       "      <th>gdp_for_year</th>\n",
       "      <th>gdp_per_capita</th>\n",
       "      <th>generation</th>\n",
       "    </tr>\n",
       "  </thead>\n",
       "  <tbody>\n",
       "    <tr>\n",
       "      <th>0</th>\n",
       "      <td>1</td>\n",
       "      <td>Albania</td>\n",
       "      <td>1987</td>\n",
       "      <td>male</td>\n",
       "      <td>15-24 years</td>\n",
       "      <td>21</td>\n",
       "      <td>312900</td>\n",
       "      <td>6.71</td>\n",
       "      <td>Albania1987</td>\n",
       "      <td>NaN</td>\n",
       "      <td>2156624900</td>\n",
       "      <td>796</td>\n",
       "      <td>Generation X</td>\n",
       "    </tr>\n",
       "    <tr>\n",
       "      <th>1</th>\n",
       "      <td>2</td>\n",
       "      <td>Albania</td>\n",
       "      <td>1987</td>\n",
       "      <td>male</td>\n",
       "      <td>35-54 years</td>\n",
       "      <td>16</td>\n",
       "      <td>308000</td>\n",
       "      <td>5.19</td>\n",
       "      <td>Albania1987</td>\n",
       "      <td>NaN</td>\n",
       "      <td>2156624900</td>\n",
       "      <td>796</td>\n",
       "      <td>Silent</td>\n",
       "    </tr>\n",
       "    <tr>\n",
       "      <th>2</th>\n",
       "      <td>3</td>\n",
       "      <td>Albania</td>\n",
       "      <td>1987</td>\n",
       "      <td>female</td>\n",
       "      <td>15-24 years</td>\n",
       "      <td>14</td>\n",
       "      <td>289700</td>\n",
       "      <td>4.83</td>\n",
       "      <td>Albania1987</td>\n",
       "      <td>NaN</td>\n",
       "      <td>2156624900</td>\n",
       "      <td>796</td>\n",
       "      <td>Generation X</td>\n",
       "    </tr>\n",
       "    <tr>\n",
       "      <th>3</th>\n",
       "      <td>4</td>\n",
       "      <td>Albania</td>\n",
       "      <td>1987</td>\n",
       "      <td>male</td>\n",
       "      <td>75+ years</td>\n",
       "      <td>1</td>\n",
       "      <td>21800</td>\n",
       "      <td>4.59</td>\n",
       "      <td>Albania1987</td>\n",
       "      <td>NaN</td>\n",
       "      <td>2156624900</td>\n",
       "      <td>796</td>\n",
       "      <td>G.I. Generation</td>\n",
       "    </tr>\n",
       "    <tr>\n",
       "      <th>4</th>\n",
       "      <td>5</td>\n",
       "      <td>Albania</td>\n",
       "      <td>1987</td>\n",
       "      <td>male</td>\n",
       "      <td>25-34 years</td>\n",
       "      <td>9</td>\n",
       "      <td>274300</td>\n",
       "      <td>3.28</td>\n",
       "      <td>Albania1987</td>\n",
       "      <td>NaN</td>\n",
       "      <td>2156624900</td>\n",
       "      <td>796</td>\n",
       "      <td>Boomers</td>\n",
       "    </tr>\n",
       "  </tbody>\n",
       "</table>\n",
       "</div>"
      ],
      "text/plain": [
       "   id  country  year     sex          age  suicides_no  population  \\\n",
       "0   1  Albania  1987    male  15-24 years           21      312900   \n",
       "1   2  Albania  1987    male  35-54 years           16      308000   \n",
       "2   3  Albania  1987  female  15-24 years           14      289700   \n",
       "3   4  Albania  1987    male    75+ years            1       21800   \n",
       "4   5  Albania  1987    male  25-34 years            9      274300   \n",
       "\n",
       "   suicideshundredk country_year  hdiforyear  gdp_for_year  gdp_per_capita  \\\n",
       "0              6.71  Albania1987         NaN    2156624900             796   \n",
       "1              5.19  Albania1987         NaN    2156624900             796   \n",
       "2              4.83  Albania1987         NaN    2156624900             796   \n",
       "3              4.59  Albania1987         NaN    2156624900             796   \n",
       "4              3.28  Albania1987         NaN    2156624900             796   \n",
       "\n",
       "        generation  \n",
       "0     Generation X  \n",
       "1           Silent  \n",
       "2     Generation X  \n",
       "3  G.I. Generation  \n",
       "4          Boomers  "
      ]
     },
     "execution_count": 35,
     "metadata": {},
     "output_type": "execute_result"
    }
   ],
   "source": [
    "    POSTGRES = {\n",
    "    'user': 'postgres',\n",
    "    'pw': api_key,\n",
    "    'db': 'suicide_rates_overview_db',\n",
    "    'host': 'localhost',\n",
    "    'port': '5432',\n",
    "    }\n",
    "\n",
    "\n",
    "\n",
    "    engine = create_engine('postgresql://%(user)s:%(pw)s@%(host)s:%(port)s/%(db)s'% POSTGRES)\n",
    "    df_suicide_rates_df = pd.read_sql('select * from suicide_rates_db', engine)\n",
    "    df_suicide_rates_df.head()\n"
   ]
  },
  {
   "cell_type": "code",
   "execution_count": 2,
   "metadata": {},
   "outputs": [
    {
     "data": {
      "text/html": [
       "<div>\n",
       "<style scoped>\n",
       "    .dataframe tbody tr th:only-of-type {\n",
       "        vertical-align: middle;\n",
       "    }\n",
       "\n",
       "    .dataframe tbody tr th {\n",
       "        vertical-align: top;\n",
       "    }\n",
       "\n",
       "    .dataframe thead th {\n",
       "        text-align: right;\n",
       "    }\n",
       "</style>\n",
       "<table border=\"1\" class=\"dataframe\">\n",
       "  <thead>\n",
       "    <tr style=\"text-align: right;\">\n",
       "      <th></th>\n",
       "      <th>ContinentName</th>\n",
       "      <th>sex</th>\n",
       "      <th>ImageURL</th>\n",
       "      <th>suicides_no</th>\n",
       "      <th>CapitalLongitude</th>\n",
       "      <th>CapitalLatitude</th>\n",
       "    </tr>\n",
       "  </thead>\n",
       "  <tbody>\n",
       "    <tr>\n",
       "      <th>0</th>\n",
       "      <td>Africa</td>\n",
       "      <td>female</td>\n",
       "      <td>https://upload.wikimedia.org/wikipedia/commons...</td>\n",
       "      <td>5212</td>\n",
       "      <td>45.369014</td>\n",
       "      <td>-21.998885</td>\n",
       "    </tr>\n",
       "    <tr>\n",
       "      <th>1</th>\n",
       "      <td>Africa</td>\n",
       "      <td>male</td>\n",
       "      <td>https://upload.wikimedia.org/wikipedia/commons...</td>\n",
       "      <td>17414</td>\n",
       "      <td>46.866568</td>\n",
       "      <td>-19.714250</td>\n",
       "    </tr>\n",
       "    <tr>\n",
       "      <th>2</th>\n",
       "      <td>Asia</td>\n",
       "      <td>female</td>\n",
       "      <td>https://svgsilh.com/svg/151642-ffeb3b.svg</td>\n",
       "      <td>675656</td>\n",
       "      <td>81.385054</td>\n",
       "      <td>28.916514</td>\n",
       "    </tr>\n",
       "    <tr>\n",
       "      <th>3</th>\n",
       "      <td>Asia</td>\n",
       "      <td>male</td>\n",
       "      <td>https://svgsilh.com/svg/151642-ffeb3b.svg</td>\n",
       "      <td>1678524</td>\n",
       "      <td>79.583352</td>\n",
       "      <td>28.735387</td>\n",
       "    </tr>\n",
       "    <tr>\n",
       "      <th>4</th>\n",
       "      <td>Australia</td>\n",
       "      <td>female</td>\n",
       "      <td>https://www.wpclipart.com/geography/continents...</td>\n",
       "      <td>37564</td>\n",
       "      <td>163.628416</td>\n",
       "      <td>-35.114333</td>\n",
       "    </tr>\n",
       "    <tr>\n",
       "      <th>5</th>\n",
       "      <td>Australia</td>\n",
       "      <td>male</td>\n",
       "      <td>https://www.wpclipart.com/geography/continents...</td>\n",
       "      <td>132138</td>\n",
       "      <td>164.085967</td>\n",
       "      <td>-33.733255</td>\n",
       "    </tr>\n",
       "    <tr>\n",
       "      <th>6</th>\n",
       "      <td>Europe</td>\n",
       "      <td>female</td>\n",
       "      <td>https://encrypted-tbn0.gstatic.com/images?q=tb...</td>\n",
       "      <td>1055158</td>\n",
       "      <td>15.219409</td>\n",
       "      <td>48.968883</td>\n",
       "    </tr>\n",
       "    <tr>\n",
       "      <th>7</th>\n",
       "      <td>Europe</td>\n",
       "      <td>male</td>\n",
       "      <td>https://encrypted-tbn0.gstatic.com/images?q=tb...</td>\n",
       "      <td>3376618</td>\n",
       "      <td>15.126587</td>\n",
       "      <td>48.850518</td>\n",
       "    </tr>\n",
       "    <tr>\n",
       "      <th>8</th>\n",
       "      <td>NorthAmerica</td>\n",
       "      <td>female</td>\n",
       "      <td>https://svgsilh.com/svg_v2/307195.svg</td>\n",
       "      <td>27356</td>\n",
       "      <td>-69.361378</td>\n",
       "      <td>17.157964</td>\n",
       "    </tr>\n",
       "    <tr>\n",
       "      <th>9</th>\n",
       "      <td>NorthAmerica</td>\n",
       "      <td>male</td>\n",
       "      <td>https://svgsilh.com/svg_v2/307195.svg</td>\n",
       "      <td>83312</td>\n",
       "      <td>-68.378670</td>\n",
       "      <td>16.787286</td>\n",
       "    </tr>\n",
       "    <tr>\n",
       "      <th>10</th>\n",
       "      <td>SouthAmerica</td>\n",
       "      <td>female</td>\n",
       "      <td>https://upload.wikimedia.org/wikipedia/commons...</td>\n",
       "      <td>194838</td>\n",
       "      <td>-62.445395</td>\n",
       "      <td>-14.921987</td>\n",
       "    </tr>\n",
       "    <tr>\n",
       "      <th>11</th>\n",
       "      <td>SouthAmerica</td>\n",
       "      <td>male</td>\n",
       "      <td>https://upload.wikimedia.org/wikipedia/commons...</td>\n",
       "      <td>699122</td>\n",
       "      <td>-62.301286</td>\n",
       "      <td>-14.693044</td>\n",
       "    </tr>\n",
       "  </tbody>\n",
       "</table>\n",
       "</div>"
      ],
      "text/plain": [
       "   ContinentName     sex                                           ImageURL  \\\n",
       "0         Africa  female  https://upload.wikimedia.org/wikipedia/commons...   \n",
       "1         Africa    male  https://upload.wikimedia.org/wikipedia/commons...   \n",
       "2           Asia  female          https://svgsilh.com/svg/151642-ffeb3b.svg   \n",
       "3           Asia    male          https://svgsilh.com/svg/151642-ffeb3b.svg   \n",
       "4      Australia  female  https://www.wpclipart.com/geography/continents...   \n",
       "5      Australia    male  https://www.wpclipart.com/geography/continents...   \n",
       "6         Europe  female  https://encrypted-tbn0.gstatic.com/images?q=tb...   \n",
       "7         Europe    male  https://encrypted-tbn0.gstatic.com/images?q=tb...   \n",
       "8   NorthAmerica  female              https://svgsilh.com/svg_v2/307195.svg   \n",
       "9   NorthAmerica    male              https://svgsilh.com/svg_v2/307195.svg   \n",
       "10  SouthAmerica  female  https://upload.wikimedia.org/wikipedia/commons...   \n",
       "11  SouthAmerica    male  https://upload.wikimedia.org/wikipedia/commons...   \n",
       "\n",
       "    suicides_no  CapitalLongitude  CapitalLatitude  \n",
       "0          5212         45.369014       -21.998885  \n",
       "1         17414         46.866568       -19.714250  \n",
       "2        675656         81.385054        28.916514  \n",
       "3       1678524         79.583352        28.735387  \n",
       "4         37564        163.628416       -35.114333  \n",
       "5        132138        164.085967       -33.733255  \n",
       "6       1055158         15.219409        48.968883  \n",
       "7       3376618         15.126587        48.850518  \n",
       "8         27356        -69.361378        17.157964  \n",
       "9         83312        -68.378670        16.787286  \n",
       "10       194838        -62.445395       -14.921987  \n",
       "11       699122        -62.301286       -14.693044  "
      ]
     },
     "execution_count": 2,
     "metadata": {},
     "output_type": "execute_result"
    }
   ],
   "source": [
    "    POSTGRES = {\n",
    "    'user': 'postgres',\n",
    "    'pw': api_key,\n",
    "    'db': 'suicide_rates_overview_db',\n",
    "    'host': 'localhost',\n",
    "    'port': '5432',\n",
    "    }\n",
    "\n",
    "\n",
    "\n",
    "    engine = create_engine('postgresql://%(user)s:%(pw)s@%(host)s:%(port)s/%(db)s'% POSTGRES)\n",
    "    df_suicide_rates_df = pd.read_sql('select * from suicides_rates_db', engine)\n",
    "    df_suicide_rates_df\n",
    "\n",
    "    continent_coordinates = requests.get(\"http://techslides.com/demos/country-capitals.json\")\n",
    "    continent_df = pd.read_json(json.dumps(continent_coordinates.json()), orient= 'list')\n",
    "    continent_df[\"ContinentName\"] = continent_df[\"ContinentName\"].str.replace(\" \", \"\")\n",
    "    continent_df\n",
    "\n",
    "    combined_data =df_suicide_rates_df.merge(continent_df, left_on =\"country\", right_on='CountryName')\n",
    "    combined_data\n",
    "\n",
    "\n",
    "    combined_data = combined_data[['ContinentName', 'sex', 'suicides_no', 'CapitalLatitude', 'CapitalLongitude']]\n",
    "    combined_data\n",
    "\n",
    "\n",
    "\n",
    "    combined_data['suicides_no'] = pd.to_numeric(combined_data['suicides_no'], errors='coerce')\n",
    "    combined_data['CapitalLatitude'] = pd.to_numeric(combined_data['CapitalLatitude'], errors='coerce')\n",
    "    combined_data['CapitalLongitude'] = pd.to_numeric(combined_data['CapitalLongitude'], errors='coerce')\n",
    "    combined_data = combined_data.dropna()\n",
    "    combined_data\n",
    "\n",
    "\n",
    "    continent_pic_file = pd.read_csv(\"Data/Continents_Images.csv\")\n",
    "    continent_pic_file\n",
    "\n",
    "    combined_data =combined_data.merge(continent_pic_file, left_on =\"ContinentName\", right_on='Continent')\n",
    "    combined_data\n",
    "\n",
    "\n",
    "        \n",
    "\n",
    "    combined_data_by_continent = combined_data.groupby(['ContinentName', 'sex', \"ImageURL\"]).agg({'suicides_no' : 'sum', 'CapitalLongitude': 'mean', 'CapitalLatitude': 'mean'})\n",
    "\n",
    "\n",
    "    combined_data_by_continent = combined_data_by_continent.reset_index()    \n",
    " \n",
    "combined_data_by_continent"
   ]
  },
  {
   "cell_type": "code",
   "execution_count": 3,
   "metadata": {},
   "outputs": [
    {
     "data": {
      "text/html": [
       "<div>\n",
       "<style scoped>\n",
       "    .dataframe tbody tr th:only-of-type {\n",
       "        vertical-align: middle;\n",
       "    }\n",
       "\n",
       "    .dataframe tbody tr th {\n",
       "        vertical-align: top;\n",
       "    }\n",
       "\n",
       "    .dataframe thead th {\n",
       "        text-align: right;\n",
       "    }\n",
       "</style>\n",
       "<table border=\"1\" class=\"dataframe\">\n",
       "  <thead>\n",
       "    <tr style=\"text-align: right;\">\n",
       "      <th></th>\n",
       "      <th>ContinentName</th>\n",
       "      <th>sex</th>\n",
       "      <th>suicides_no</th>\n",
       "    </tr>\n",
       "  </thead>\n",
       "  <tbody>\n",
       "    <tr>\n",
       "      <th>7</th>\n",
       "      <td>Europe</td>\n",
       "      <td>male</td>\n",
       "      <td>3376618</td>\n",
       "    </tr>\n",
       "    <tr>\n",
       "      <th>3</th>\n",
       "      <td>Asia</td>\n",
       "      <td>male</td>\n",
       "      <td>1678524</td>\n",
       "    </tr>\n",
       "    <tr>\n",
       "      <th>6</th>\n",
       "      <td>Europe</td>\n",
       "      <td>female</td>\n",
       "      <td>1055158</td>\n",
       "    </tr>\n",
       "    <tr>\n",
       "      <th>11</th>\n",
       "      <td>SouthAmerica</td>\n",
       "      <td>male</td>\n",
       "      <td>699122</td>\n",
       "    </tr>\n",
       "    <tr>\n",
       "      <th>2</th>\n",
       "      <td>Asia</td>\n",
       "      <td>female</td>\n",
       "      <td>675656</td>\n",
       "    </tr>\n",
       "    <tr>\n",
       "      <th>10</th>\n",
       "      <td>SouthAmerica</td>\n",
       "      <td>female</td>\n",
       "      <td>194838</td>\n",
       "    </tr>\n",
       "    <tr>\n",
       "      <th>5</th>\n",
       "      <td>Australia</td>\n",
       "      <td>male</td>\n",
       "      <td>132138</td>\n",
       "    </tr>\n",
       "    <tr>\n",
       "      <th>9</th>\n",
       "      <td>NorthAmerica</td>\n",
       "      <td>male</td>\n",
       "      <td>83312</td>\n",
       "    </tr>\n",
       "    <tr>\n",
       "      <th>4</th>\n",
       "      <td>Australia</td>\n",
       "      <td>female</td>\n",
       "      <td>37564</td>\n",
       "    </tr>\n",
       "    <tr>\n",
       "      <th>8</th>\n",
       "      <td>NorthAmerica</td>\n",
       "      <td>female</td>\n",
       "      <td>27356</td>\n",
       "    </tr>\n",
       "    <tr>\n",
       "      <th>1</th>\n",
       "      <td>Africa</td>\n",
       "      <td>male</td>\n",
       "      <td>17414</td>\n",
       "    </tr>\n",
       "    <tr>\n",
       "      <th>0</th>\n",
       "      <td>Africa</td>\n",
       "      <td>female</td>\n",
       "      <td>5212</td>\n",
       "    </tr>\n",
       "  </tbody>\n",
       "</table>\n",
       "</div>"
      ],
      "text/plain": [
       "   ContinentName     sex  suicides_no\n",
       "7         Europe    male      3376618\n",
       "3           Asia    male      1678524\n",
       "6         Europe  female      1055158\n",
       "11  SouthAmerica    male       699122\n",
       "2           Asia  female       675656\n",
       "10  SouthAmerica  female       194838\n",
       "5      Australia    male       132138\n",
       "9   NorthAmerica    male        83312\n",
       "4      Australia  female        37564\n",
       "8   NorthAmerica  female        27356\n",
       "1         Africa    male        17414\n",
       "0         Africa  female         5212"
      ]
     },
     "execution_count": 3,
     "metadata": {},
     "output_type": "execute_result"
    }
   ],
   "source": [
    "selected_columns = combined_data_by_continent[['ContinentName','sex', 'suicides_no']]\n",
    "selected_columns = selected_columns.sort_values(by='suicides_no', ascending=False)\n",
    "selected_columns"
   ]
  },
  {
   "cell_type": "markdown",
   "metadata": {},
   "source": [
    "t test for gender"
   ]
  },
  {
   "cell_type": "code",
   "execution_count": 4,
   "metadata": {},
   "outputs": [
    {
     "data": {
      "text/html": [
       "<div>\n",
       "<style scoped>\n",
       "    .dataframe tbody tr th:only-of-type {\n",
       "        vertical-align: middle;\n",
       "    }\n",
       "\n",
       "    .dataframe tbody tr th {\n",
       "        vertical-align: top;\n",
       "    }\n",
       "\n",
       "    .dataframe thead th {\n",
       "        text-align: right;\n",
       "    }\n",
       "</style>\n",
       "<table border=\"1\" class=\"dataframe\">\n",
       "  <thead>\n",
       "    <tr style=\"text-align: right;\">\n",
       "      <th></th>\n",
       "      <th>ContinentName</th>\n",
       "      <th>sex</th>\n",
       "      <th>suicides_no</th>\n",
       "    </tr>\n",
       "  </thead>\n",
       "  <tbody>\n",
       "    <tr>\n",
       "      <th>6</th>\n",
       "      <td>Europe</td>\n",
       "      <td>female</td>\n",
       "      <td>1055158</td>\n",
       "    </tr>\n",
       "    <tr>\n",
       "      <th>2</th>\n",
       "      <td>Asia</td>\n",
       "      <td>female</td>\n",
       "      <td>675656</td>\n",
       "    </tr>\n",
       "    <tr>\n",
       "      <th>10</th>\n",
       "      <td>SouthAmerica</td>\n",
       "      <td>female</td>\n",
       "      <td>194838</td>\n",
       "    </tr>\n",
       "    <tr>\n",
       "      <th>4</th>\n",
       "      <td>Australia</td>\n",
       "      <td>female</td>\n",
       "      <td>37564</td>\n",
       "    </tr>\n",
       "    <tr>\n",
       "      <th>8</th>\n",
       "      <td>NorthAmerica</td>\n",
       "      <td>female</td>\n",
       "      <td>27356</td>\n",
       "    </tr>\n",
       "    <tr>\n",
       "      <th>0</th>\n",
       "      <td>Africa</td>\n",
       "      <td>female</td>\n",
       "      <td>5212</td>\n",
       "    </tr>\n",
       "  </tbody>\n",
       "</table>\n",
       "</div>"
      ],
      "text/plain": [
       "   ContinentName     sex  suicides_no\n",
       "6         Europe  female      1055158\n",
       "2           Asia  female       675656\n",
       "10  SouthAmerica  female       194838\n",
       "4      Australia  female        37564\n",
       "8   NorthAmerica  female        27356\n",
       "0         Africa  female         5212"
      ]
     },
     "execution_count": 4,
     "metadata": {},
     "output_type": "execute_result"
    }
   ],
   "source": [
    "femaleincontinent = selected_columns.loc[combined_data_by_continent['sex'] == 'female']\n",
    "femaleincontinent = femaleincontinent.sort_values(by='suicides_no', ascending=False)\n",
    "femaleincontinent"
   ]
  },
  {
   "cell_type": "code",
   "execution_count": 5,
   "metadata": {},
   "outputs": [
    {
     "data": {
      "text/plain": [
       "ContinentName    EuropeAsiaSouthAmericaAustraliaNorthAmericaAfrica\n",
       "sex                           femalefemalefemalefemalefemalefemale\n",
       "suicides_no                                                1995784\n",
       "dtype: object"
      ]
     },
     "execution_count": 5,
     "metadata": {},
     "output_type": "execute_result"
    }
   ],
   "source": [
    "femaleincontinentsum = femaleincontinent.sum()\n",
    "femaleincontinentsum"
   ]
  },
  {
   "cell_type": "code",
   "execution_count": 6,
   "metadata": {},
   "outputs": [
    {
     "data": {
      "text/html": [
       "<div>\n",
       "<style scoped>\n",
       "    .dataframe tbody tr th:only-of-type {\n",
       "        vertical-align: middle;\n",
       "    }\n",
       "\n",
       "    .dataframe tbody tr th {\n",
       "        vertical-align: top;\n",
       "    }\n",
       "\n",
       "    .dataframe thead th {\n",
       "        text-align: right;\n",
       "    }\n",
       "</style>\n",
       "<table border=\"1\" class=\"dataframe\">\n",
       "  <thead>\n",
       "    <tr style=\"text-align: right;\">\n",
       "      <th></th>\n",
       "      <th>ContinentName</th>\n",
       "      <th>sex</th>\n",
       "      <th>suicides_no</th>\n",
       "    </tr>\n",
       "  </thead>\n",
       "  <tbody>\n",
       "    <tr>\n",
       "      <th>7</th>\n",
       "      <td>Europe</td>\n",
       "      <td>male</td>\n",
       "      <td>3376618</td>\n",
       "    </tr>\n",
       "    <tr>\n",
       "      <th>3</th>\n",
       "      <td>Asia</td>\n",
       "      <td>male</td>\n",
       "      <td>1678524</td>\n",
       "    </tr>\n",
       "    <tr>\n",
       "      <th>11</th>\n",
       "      <td>SouthAmerica</td>\n",
       "      <td>male</td>\n",
       "      <td>699122</td>\n",
       "    </tr>\n",
       "    <tr>\n",
       "      <th>5</th>\n",
       "      <td>Australia</td>\n",
       "      <td>male</td>\n",
       "      <td>132138</td>\n",
       "    </tr>\n",
       "    <tr>\n",
       "      <th>9</th>\n",
       "      <td>NorthAmerica</td>\n",
       "      <td>male</td>\n",
       "      <td>83312</td>\n",
       "    </tr>\n",
       "    <tr>\n",
       "      <th>1</th>\n",
       "      <td>Africa</td>\n",
       "      <td>male</td>\n",
       "      <td>17414</td>\n",
       "    </tr>\n",
       "  </tbody>\n",
       "</table>\n",
       "</div>"
      ],
      "text/plain": [
       "   ContinentName   sex  suicides_no\n",
       "7         Europe  male      3376618\n",
       "3           Asia  male      1678524\n",
       "11  SouthAmerica  male       699122\n",
       "5      Australia  male       132138\n",
       "9   NorthAmerica  male        83312\n",
       "1         Africa  male        17414"
      ]
     },
     "execution_count": 6,
     "metadata": {},
     "output_type": "execute_result"
    }
   ],
   "source": [
    "maleincontinent = selected_columns.loc[selected_columns['sex'] == 'male']\n",
    "maleincontinent = maleincontinent.sort_values(by='suicides_no', ascending=False)\n",
    "maleincontinent"
   ]
  },
  {
   "cell_type": "code",
   "execution_count": 7,
   "metadata": {},
   "outputs": [],
   "source": [
    "maleincontinentsum = maleincontinent.sum()"
   ]
  },
  {
   "cell_type": "code",
   "execution_count": 8,
   "metadata": {},
   "outputs": [
    {
     "ename": "TypeError",
     "evalue": "unsupported operand type(s) for /: 'str' and 'str'",
     "output_type": "error",
     "traceback": [
      "\u001b[1;31m---------------------------------------------------------------------------\u001b[0m",
      "\u001b[1;31mTypeError\u001b[0m                                 Traceback (most recent call last)",
      "\u001b[1;32m~\\Anaconda3\\envs\\PythonData\\lib\\site-packages\\pandas\\core\\ops.py\u001b[0m in \u001b[0;36mna_op\u001b[1;34m(x, y)\u001b[0m\n\u001b[0;32m   1504\u001b[0m         \u001b[1;32mtry\u001b[0m\u001b[1;33m:\u001b[0m\u001b[1;33m\u001b[0m\u001b[1;33m\u001b[0m\u001b[0m\n\u001b[1;32m-> 1505\u001b[1;33m             \u001b[0mresult\u001b[0m \u001b[1;33m=\u001b[0m \u001b[0mexpressions\u001b[0m\u001b[1;33m.\u001b[0m\u001b[0mevaluate\u001b[0m\u001b[1;33m(\u001b[0m\u001b[0mop\u001b[0m\u001b[1;33m,\u001b[0m \u001b[0mstr_rep\u001b[0m\u001b[1;33m,\u001b[0m \u001b[0mx\u001b[0m\u001b[1;33m,\u001b[0m \u001b[0my\u001b[0m\u001b[1;33m,\u001b[0m \u001b[1;33m**\u001b[0m\u001b[0meval_kwargs\u001b[0m\u001b[1;33m)\u001b[0m\u001b[1;33m\u001b[0m\u001b[1;33m\u001b[0m\u001b[0m\n\u001b[0m\u001b[0;32m   1506\u001b[0m         \u001b[1;32mexcept\u001b[0m \u001b[0mTypeError\u001b[0m\u001b[1;33m:\u001b[0m\u001b[1;33m\u001b[0m\u001b[1;33m\u001b[0m\u001b[0m\n",
      "\u001b[1;32m~\\Anaconda3\\envs\\PythonData\\lib\\site-packages\\pandas\\core\\computation\\expressions.py\u001b[0m in \u001b[0;36mevaluate\u001b[1;34m(op, op_str, a, b, use_numexpr, **eval_kwargs)\u001b[0m\n\u001b[0;32m    207\u001b[0m     \u001b[1;32mif\u001b[0m \u001b[0muse_numexpr\u001b[0m\u001b[1;33m:\u001b[0m\u001b[1;33m\u001b[0m\u001b[1;33m\u001b[0m\u001b[0m\n\u001b[1;32m--> 208\u001b[1;33m         \u001b[1;32mreturn\u001b[0m \u001b[0m_evaluate\u001b[0m\u001b[1;33m(\u001b[0m\u001b[0mop\u001b[0m\u001b[1;33m,\u001b[0m \u001b[0mop_str\u001b[0m\u001b[1;33m,\u001b[0m \u001b[0ma\u001b[0m\u001b[1;33m,\u001b[0m \u001b[0mb\u001b[0m\u001b[1;33m,\u001b[0m \u001b[1;33m**\u001b[0m\u001b[0meval_kwargs\u001b[0m\u001b[1;33m)\u001b[0m\u001b[1;33m\u001b[0m\u001b[1;33m\u001b[0m\u001b[0m\n\u001b[0m\u001b[0;32m    209\u001b[0m     \u001b[1;32mreturn\u001b[0m \u001b[0m_evaluate_standard\u001b[0m\u001b[1;33m(\u001b[0m\u001b[0mop\u001b[0m\u001b[1;33m,\u001b[0m \u001b[0mop_str\u001b[0m\u001b[1;33m,\u001b[0m \u001b[0ma\u001b[0m\u001b[1;33m,\u001b[0m \u001b[0mb\u001b[0m\u001b[1;33m)\u001b[0m\u001b[1;33m\u001b[0m\u001b[1;33m\u001b[0m\u001b[0m\n",
      "\u001b[1;32m~\\Anaconda3\\envs\\PythonData\\lib\\site-packages\\pandas\\core\\computation\\expressions.py\u001b[0m in \u001b[0;36m_evaluate_numexpr\u001b[1;34m(op, op_str, a, b, truediv, reversed, **eval_kwargs)\u001b[0m\n\u001b[0;32m    122\u001b[0m     \u001b[1;32mif\u001b[0m \u001b[0mresult\u001b[0m \u001b[1;32mis\u001b[0m \u001b[1;32mNone\u001b[0m\u001b[1;33m:\u001b[0m\u001b[1;33m\u001b[0m\u001b[1;33m\u001b[0m\u001b[0m\n\u001b[1;32m--> 123\u001b[1;33m         \u001b[0mresult\u001b[0m \u001b[1;33m=\u001b[0m \u001b[0m_evaluate_standard\u001b[0m\u001b[1;33m(\u001b[0m\u001b[0mop\u001b[0m\u001b[1;33m,\u001b[0m \u001b[0mop_str\u001b[0m\u001b[1;33m,\u001b[0m \u001b[0ma\u001b[0m\u001b[1;33m,\u001b[0m \u001b[0mb\u001b[0m\u001b[1;33m)\u001b[0m\u001b[1;33m\u001b[0m\u001b[1;33m\u001b[0m\u001b[0m\n\u001b[0m\u001b[0;32m    124\u001b[0m \u001b[1;33m\u001b[0m\u001b[0m\n",
      "\u001b[1;32m~\\Anaconda3\\envs\\PythonData\\lib\\site-packages\\pandas\\core\\computation\\expressions.py\u001b[0m in \u001b[0;36m_evaluate_standard\u001b[1;34m(op, op_str, a, b, **eval_kwargs)\u001b[0m\n\u001b[0;32m     67\u001b[0m     \u001b[1;32mwith\u001b[0m \u001b[0mnp\u001b[0m\u001b[1;33m.\u001b[0m\u001b[0merrstate\u001b[0m\u001b[1;33m(\u001b[0m\u001b[0mall\u001b[0m\u001b[1;33m=\u001b[0m\u001b[1;34m'ignore'\u001b[0m\u001b[1;33m)\u001b[0m\u001b[1;33m:\u001b[0m\u001b[1;33m\u001b[0m\u001b[1;33m\u001b[0m\u001b[0m\n\u001b[1;32m---> 68\u001b[1;33m         \u001b[1;32mreturn\u001b[0m \u001b[0mop\u001b[0m\u001b[1;33m(\u001b[0m\u001b[0ma\u001b[0m\u001b[1;33m,\u001b[0m \u001b[0mb\u001b[0m\u001b[1;33m)\u001b[0m\u001b[1;33m\u001b[0m\u001b[1;33m\u001b[0m\u001b[0m\n\u001b[0m\u001b[0;32m     69\u001b[0m \u001b[1;33m\u001b[0m\u001b[0m\n",
      "\u001b[1;31mTypeError\u001b[0m: unsupported operand type(s) for /: 'str' and 'str'",
      "\nDuring handling of the above exception, another exception occurred:\n",
      "\u001b[1;31mTypeError\u001b[0m                                 Traceback (most recent call last)",
      "\u001b[1;32m~\\Anaconda3\\envs\\PythonData\\lib\\site-packages\\pandas\\core\\ops.py\u001b[0m in \u001b[0;36msafe_na_op\u001b[1;34m(lvalues, rvalues)\u001b[0m\n\u001b[0;32m   1528\u001b[0m             \u001b[1;32mwith\u001b[0m \u001b[0mnp\u001b[0m\u001b[1;33m.\u001b[0m\u001b[0merrstate\u001b[0m\u001b[1;33m(\u001b[0m\u001b[0mall\u001b[0m\u001b[1;33m=\u001b[0m\u001b[1;34m'ignore'\u001b[0m\u001b[1;33m)\u001b[0m\u001b[1;33m:\u001b[0m\u001b[1;33m\u001b[0m\u001b[1;33m\u001b[0m\u001b[0m\n\u001b[1;32m-> 1529\u001b[1;33m                 \u001b[1;32mreturn\u001b[0m \u001b[0mna_op\u001b[0m\u001b[1;33m(\u001b[0m\u001b[0mlvalues\u001b[0m\u001b[1;33m,\u001b[0m \u001b[0mrvalues\u001b[0m\u001b[1;33m)\u001b[0m\u001b[1;33m\u001b[0m\u001b[1;33m\u001b[0m\u001b[0m\n\u001b[0m\u001b[0;32m   1530\u001b[0m         \u001b[1;32mexcept\u001b[0m \u001b[0mException\u001b[0m\u001b[1;33m:\u001b[0m\u001b[1;33m\u001b[0m\u001b[1;33m\u001b[0m\u001b[0m\n",
      "\u001b[1;32m~\\Anaconda3\\envs\\PythonData\\lib\\site-packages\\pandas\\core\\ops.py\u001b[0m in \u001b[0;36mna_op\u001b[1;34m(x, y)\u001b[0m\n\u001b[0;32m   1506\u001b[0m         \u001b[1;32mexcept\u001b[0m \u001b[0mTypeError\u001b[0m\u001b[1;33m:\u001b[0m\u001b[1;33m\u001b[0m\u001b[1;33m\u001b[0m\u001b[0m\n\u001b[1;32m-> 1507\u001b[1;33m             \u001b[0mresult\u001b[0m \u001b[1;33m=\u001b[0m \u001b[0mmasked_arith_op\u001b[0m\u001b[1;33m(\u001b[0m\u001b[0mx\u001b[0m\u001b[1;33m,\u001b[0m \u001b[0my\u001b[0m\u001b[1;33m,\u001b[0m \u001b[0mop\u001b[0m\u001b[1;33m)\u001b[0m\u001b[1;33m\u001b[0m\u001b[1;33m\u001b[0m\u001b[0m\n\u001b[0m\u001b[0;32m   1508\u001b[0m \u001b[1;33m\u001b[0m\u001b[0m\n",
      "\u001b[1;32m~\\Anaconda3\\envs\\PythonData\\lib\\site-packages\\pandas\\core\\ops.py\u001b[0m in \u001b[0;36mmasked_arith_op\u001b[1;34m(x, y, op)\u001b[0m\n\u001b[0;32m   1008\u001b[0m                 result[mask] = op(xrav[mask],\n\u001b[1;32m-> 1009\u001b[1;33m                                   com.values_from_object(yrav[mask]))\n\u001b[0m\u001b[0;32m   1010\u001b[0m \u001b[1;33m\u001b[0m\u001b[0m\n",
      "\u001b[1;31mTypeError\u001b[0m: unsupported operand type(s) for /: 'str' and 'str'",
      "\nDuring handling of the above exception, another exception occurred:\n",
      "\u001b[1;31mTypeError\u001b[0m                                 Traceback (most recent call last)",
      "\u001b[1;32m<ipython-input-8-3a3a61543588>\u001b[0m in \u001b[0;36m<module>\u001b[1;34m\u001b[0m\n\u001b[1;32m----> 1\u001b[1;33m \u001b[0mfemalepercentage\u001b[0m \u001b[1;33m=\u001b[0m \u001b[1;33m(\u001b[0m\u001b[0mfemaleincontinentsum\u001b[0m \u001b[1;33m/\u001b[0m \u001b[1;33m(\u001b[0m\u001b[0mfemaleincontinentsum\u001b[0m \u001b[1;33m+\u001b[0m \u001b[0mmaleincontinentsum\u001b[0m\u001b[1;33m)\u001b[0m\u001b[1;33m)\u001b[0m \u001b[1;33m*\u001b[0m \u001b[1;36m100\u001b[0m\u001b[1;33m\u001b[0m\u001b[1;33m\u001b[0m\u001b[0m\n\u001b[0m\u001b[0;32m      2\u001b[0m \u001b[0mfemalepercentage\u001b[0m\u001b[1;33m\u001b[0m\u001b[1;33m\u001b[0m\u001b[0m\n",
      "\u001b[1;32m~\\Anaconda3\\envs\\PythonData\\lib\\site-packages\\pandas\\core\\ops.py\u001b[0m in \u001b[0;36mwrapper\u001b[1;34m(left, right)\u001b[0m\n\u001b[0;32m   1581\u001b[0m             \u001b[0mrvalues\u001b[0m \u001b[1;33m=\u001b[0m \u001b[0mrvalues\u001b[0m\u001b[1;33m.\u001b[0m\u001b[0mvalues\u001b[0m\u001b[1;33m\u001b[0m\u001b[1;33m\u001b[0m\u001b[0m\n\u001b[0;32m   1582\u001b[0m \u001b[1;33m\u001b[0m\u001b[0m\n\u001b[1;32m-> 1583\u001b[1;33m         \u001b[0mresult\u001b[0m \u001b[1;33m=\u001b[0m \u001b[0msafe_na_op\u001b[0m\u001b[1;33m(\u001b[0m\u001b[0mlvalues\u001b[0m\u001b[1;33m,\u001b[0m \u001b[0mrvalues\u001b[0m\u001b[1;33m)\u001b[0m\u001b[1;33m\u001b[0m\u001b[1;33m\u001b[0m\u001b[0m\n\u001b[0m\u001b[0;32m   1584\u001b[0m         return construct_result(left, result,\n\u001b[0;32m   1585\u001b[0m                                 index=left.index, name=res_name, dtype=None)\n",
      "\u001b[1;32m~\\Anaconda3\\envs\\PythonData\\lib\\site-packages\\pandas\\core\\ops.py\u001b[0m in \u001b[0;36msafe_na_op\u001b[1;34m(lvalues, rvalues)\u001b[0m\n\u001b[0;32m   1531\u001b[0m             \u001b[1;32mif\u001b[0m \u001b[0mis_object_dtype\u001b[0m\u001b[1;33m(\u001b[0m\u001b[0mlvalues\u001b[0m\u001b[1;33m)\u001b[0m\u001b[1;33m:\u001b[0m\u001b[1;33m\u001b[0m\u001b[1;33m\u001b[0m\u001b[0m\n\u001b[0;32m   1532\u001b[0m                 return libalgos.arrmap_object(lvalues,\n\u001b[1;32m-> 1533\u001b[1;33m                                               lambda x: op(x, rvalues))\n\u001b[0m\u001b[0;32m   1534\u001b[0m             \u001b[1;32mraise\u001b[0m\u001b[1;33m\u001b[0m\u001b[1;33m\u001b[0m\u001b[0m\n\u001b[0;32m   1535\u001b[0m \u001b[1;33m\u001b[0m\u001b[0m\n",
      "\u001b[1;32mpandas/_libs/algos.pyx\u001b[0m in \u001b[0;36mpandas._libs.algos.arrmap\u001b[1;34m()\u001b[0m\n",
      "\u001b[1;32m~\\Anaconda3\\envs\\PythonData\\lib\\site-packages\\pandas\\core\\ops.py\u001b[0m in \u001b[0;36m<lambda>\u001b[1;34m(x)\u001b[0m\n\u001b[0;32m   1531\u001b[0m             \u001b[1;32mif\u001b[0m \u001b[0mis_object_dtype\u001b[0m\u001b[1;33m(\u001b[0m\u001b[0mlvalues\u001b[0m\u001b[1;33m)\u001b[0m\u001b[1;33m:\u001b[0m\u001b[1;33m\u001b[0m\u001b[1;33m\u001b[0m\u001b[0m\n\u001b[0;32m   1532\u001b[0m                 return libalgos.arrmap_object(lvalues,\n\u001b[1;32m-> 1533\u001b[1;33m                                               lambda x: op(x, rvalues))\n\u001b[0m\u001b[0;32m   1534\u001b[0m             \u001b[1;32mraise\u001b[0m\u001b[1;33m\u001b[0m\u001b[1;33m\u001b[0m\u001b[0m\n\u001b[0;32m   1535\u001b[0m \u001b[1;33m\u001b[0m\u001b[0m\n",
      "\u001b[1;31mTypeError\u001b[0m: unsupported operand type(s) for /: 'str' and 'str'"
     ]
    }
   ],
   "source": [
    "femalepercentage = (femaleincontinentsum / (femaleincontinentsum + maleincontinentsum)) * 100\n",
    "femalepercentage"
   ]
  },
  {
   "cell_type": "code",
   "execution_count": null,
   "metadata": {},
   "outputs": [],
   "source": [
    "malepercentage = (maleincontinentsum / (femaleincontinentsum + maleincontinentsum)) * 100\n",
    "malepercentage"
   ]
  },
  {
   "cell_type": "code",
   "execution_count": null,
   "metadata": {},
   "outputs": [],
   "source": [
    "stats.ttest_ind(femaleincontinent, maleincontinent, equal_var=False)"
   ]
  },
  {
   "cell_type": "markdown",
   "metadata": {},
   "source": [
    "t test country"
   ]
  },
  {
   "cell_type": "code",
   "execution_count": 6,
   "metadata": {},
   "outputs": [
    {
     "name": "stderr",
     "output_type": "stream",
     "text": [
      "C:\\Users\\Carol\\Anaconda3\\envs\\PythonData\\lib\\site-packages\\ipykernel_launcher.py:26: SettingWithCopyWarning: \n",
      "A value is trying to be set on a copy of a slice from a DataFrame.\n",
      "Try using .loc[row_indexer,col_indexer] = value instead\n",
      "\n",
      "See the caveats in the documentation: http://pandas.pydata.org/pandas-docs/stable/indexing.html#indexing-view-versus-copy\n",
      "C:\\Users\\Carol\\Anaconda3\\envs\\PythonData\\lib\\site-packages\\ipykernel_launcher.py:27: SettingWithCopyWarning: \n",
      "A value is trying to be set on a copy of a slice from a DataFrame.\n",
      "Try using .loc[row_indexer,col_indexer] = value instead\n",
      "\n",
      "See the caveats in the documentation: http://pandas.pydata.org/pandas-docs/stable/indexing.html#indexing-view-versus-copy\n",
      "C:\\Users\\Carol\\Anaconda3\\envs\\PythonData\\lib\\site-packages\\ipykernel_launcher.py:28: SettingWithCopyWarning: \n",
      "A value is trying to be set on a copy of a slice from a DataFrame.\n",
      "Try using .loc[row_indexer,col_indexer] = value instead\n",
      "\n",
      "See the caveats in the documentation: http://pandas.pydata.org/pandas-docs/stable/indexing.html#indexing-view-versus-copy\n"
     ]
    },
    {
     "data": {
      "text/html": [
       "<div>\n",
       "<style scoped>\n",
       "    .dataframe tbody tr th:only-of-type {\n",
       "        vertical-align: middle;\n",
       "    }\n",
       "\n",
       "    .dataframe tbody tr th {\n",
       "        vertical-align: top;\n",
       "    }\n",
       "\n",
       "    .dataframe thead th {\n",
       "        text-align: right;\n",
       "    }\n",
       "</style>\n",
       "<table border=\"1\" class=\"dataframe\">\n",
       "  <thead>\n",
       "    <tr style=\"text-align: right;\">\n",
       "      <th></th>\n",
       "      <th>ContinentName</th>\n",
       "      <th>Country</th>\n",
       "      <th>sex</th>\n",
       "      <th>Images File Name</th>\n",
       "      <th>ImageURL</th>\n",
       "      <th>suicides_no</th>\n",
       "      <th>CapitalLongitude</th>\n",
       "      <th>CapitalLatitude</th>\n",
       "    </tr>\n",
       "  </thead>\n",
       "  <tbody>\n",
       "    <tr>\n",
       "      <th>0</th>\n",
       "      <td>Africa</td>\n",
       "      <td>Mauritius</td>\n",
       "      <td>female</td>\n",
       "      <td>Flag_of_Mauritius.svg</td>\n",
       "      <td>https://upload.wikimedia.org/wikipedia/commons...</td>\n",
       "      <td>1990</td>\n",
       "      <td>57.483333</td>\n",
       "      <td>-20.150000</td>\n",
       "    </tr>\n",
       "    <tr>\n",
       "      <th>1</th>\n",
       "      <td>Africa</td>\n",
       "      <td>Mauritius</td>\n",
       "      <td>male</td>\n",
       "      <td>Flag_of_Mauritius.svg</td>\n",
       "      <td>https://upload.wikimedia.org/wikipedia/commons...</td>\n",
       "      <td>5798</td>\n",
       "      <td>57.483333</td>\n",
       "      <td>-20.150000</td>\n",
       "    </tr>\n",
       "    <tr>\n",
       "      <th>2</th>\n",
       "      <td>Africa</td>\n",
       "      <td>Seychelles</td>\n",
       "      <td>female</td>\n",
       "      <td>Flag_of_Seychelles.svg</td>\n",
       "      <td>https://upload.wikimedia.org/wikipedia/commons...</td>\n",
       "      <td>18</td>\n",
       "      <td>55.450000</td>\n",
       "      <td>-4.616667</td>\n",
       "    </tr>\n",
       "    <tr>\n",
       "      <th>3</th>\n",
       "      <td>Africa</td>\n",
       "      <td>Seychelles</td>\n",
       "      <td>male</td>\n",
       "      <td>Flag_of_Seychelles.svg</td>\n",
       "      <td>https://upload.wikimedia.org/wikipedia/commons...</td>\n",
       "      <td>178</td>\n",
       "      <td>55.450000</td>\n",
       "      <td>-4.616667</td>\n",
       "    </tr>\n",
       "    <tr>\n",
       "      <th>4</th>\n",
       "      <td>Asia</td>\n",
       "      <td>Bahrain</td>\n",
       "      <td>female</td>\n",
       "      <td>Flag_of_Bahrain.svg</td>\n",
       "      <td>https://upload.wikimedia.org/wikipedia/commons...</td>\n",
       "      <td>160</td>\n",
       "      <td>50.566667</td>\n",
       "      <td>26.233333</td>\n",
       "    </tr>\n",
       "  </tbody>\n",
       "</table>\n",
       "</div>"
      ],
      "text/plain": [
       "  ContinentName     Country     sex        Images File Name  \\\n",
       "0        Africa   Mauritius  female   Flag_of_Mauritius.svg   \n",
       "1        Africa   Mauritius    male   Flag_of_Mauritius.svg   \n",
       "2        Africa  Seychelles  female  Flag_of_Seychelles.svg   \n",
       "3        Africa  Seychelles    male  Flag_of_Seychelles.svg   \n",
       "4          Asia     Bahrain  female     Flag_of_Bahrain.svg   \n",
       "\n",
       "                                            ImageURL  suicides_no  \\\n",
       "0  https://upload.wikimedia.org/wikipedia/commons...         1990   \n",
       "1  https://upload.wikimedia.org/wikipedia/commons...         5798   \n",
       "2  https://upload.wikimedia.org/wikipedia/commons...           18   \n",
       "3  https://upload.wikimedia.org/wikipedia/commons...          178   \n",
       "4  https://upload.wikimedia.org/wikipedia/commons...          160   \n",
       "\n",
       "   CapitalLongitude  CapitalLatitude  \n",
       "0         57.483333       -20.150000  \n",
       "1         57.483333       -20.150000  \n",
       "2         55.450000        -4.616667  \n",
       "3         55.450000        -4.616667  \n",
       "4         50.566667        26.233333  "
      ]
     },
     "execution_count": 6,
     "metadata": {},
     "output_type": "execute_result"
    }
   ],
   "source": [
    "\n",
    "POSTGRES = {\n",
    "'user': 'postgres',\n",
    "'pw': api_key,\n",
    "'db': 'suicide_rates_overview_db',\n",
    "'host': 'localhost',\n",
    "'port': '5432',\n",
    "}\n",
    "\n",
    "\n",
    "\n",
    "engine = create_engine('postgresql://%(user)s:%(pw)s@%(host)s:%(port)s/%(db)s'% POSTGRES)\n",
    "\n",
    "df_suicide_rates_df = pd.read_sql('select * from suicides_rates_db', engine)\n",
    "df_suicide_rates_df\n",
    "countries_coordinates = requests.get(\"http://techslides.com/demos/country-capitals.json\")\n",
    "countries_df = pd.read_json(json.dumps(countries_coordinates.json()), orient= 'list')\n",
    "flag_file = pd.read_csv(\"Data/Country_Flags.csv\")\n",
    "flag_file[\"Country\"] = flag_file[\"Country\"].str.replace(\" \", \"\")\n",
    "combined_data =df_suicide_rates_df.merge(countries_df, left_on =\"country\", right_on='CountryName')\n",
    "combined_data2 = combined_data.merge(flag_file, left_on='country', right_on='Country')\n",
    "combined_data2\n",
    "combined_data = combined_data2[['Country', 'sex', 'suicides_no', 'CapitalLatitude', 'CapitalLongitude', 'ContinentName', \"Images File Name\", \"ImageURL\"]]\n",
    "combined_data\n",
    "combined_data.to_json()\n",
    "combined_data['suicides_no'] = pd.to_numeric(combined_data['suicides_no'], errors='coerce')\n",
    "combined_data['CapitalLatitude'] = pd.to_numeric(combined_data['CapitalLatitude'], errors='coerce')\n",
    "combined_data['CapitalLongitude'] = pd.to_numeric(combined_data['CapitalLongitude'], errors='coerce')\n",
    "combined_data = combined_data.dropna()\n",
    "combined_data_by_country = combined_data.groupby(['ContinentName', 'Country', 'sex', \"Images File Name\", \"ImageURL\"]).agg({'suicides_no' : 'sum', 'CapitalLongitude': 'mean', 'CapitalLatitude': 'mean'})\n",
    "combined_data_by_country = combined_data_by_country.reset_index()    \n",
    "#     suicide_by_country = combined_data_by_country.to_json(orient='records', index=True)\n",
    "#     suicide_by_country\n",
    "combined_data_by_country.head()"
   ]
  },
  {
   "cell_type": "code",
   "execution_count": 7,
   "metadata": {},
   "outputs": [
    {
     "data": {
      "text/html": [
       "<div>\n",
       "<style scoped>\n",
       "    .dataframe tbody tr th:only-of-type {\n",
       "        vertical-align: middle;\n",
       "    }\n",
       "\n",
       "    .dataframe tbody tr th {\n",
       "        vertical-align: top;\n",
       "    }\n",
       "\n",
       "    .dataframe thead th {\n",
       "        text-align: right;\n",
       "    }\n",
       "</style>\n",
       "<table border=\"1\" class=\"dataframe\">\n",
       "  <thead>\n",
       "    <tr style=\"text-align: right;\">\n",
       "      <th></th>\n",
       "      <th>ContinentName</th>\n",
       "      <th>Country</th>\n",
       "      <th>sex</th>\n",
       "      <th>suicides_no</th>\n",
       "    </tr>\n",
       "  </thead>\n",
       "  <tbody>\n",
       "    <tr>\n",
       "      <th>0</th>\n",
       "      <td>Africa</td>\n",
       "      <td>Mauritius</td>\n",
       "      <td>female</td>\n",
       "      <td>1990</td>\n",
       "    </tr>\n",
       "    <tr>\n",
       "      <th>1</th>\n",
       "      <td>Africa</td>\n",
       "      <td>Mauritius</td>\n",
       "      <td>male</td>\n",
       "      <td>5798</td>\n",
       "    </tr>\n",
       "    <tr>\n",
       "      <th>2</th>\n",
       "      <td>Africa</td>\n",
       "      <td>Seychelles</td>\n",
       "      <td>female</td>\n",
       "      <td>18</td>\n",
       "    </tr>\n",
       "    <tr>\n",
       "      <th>3</th>\n",
       "      <td>Africa</td>\n",
       "      <td>Seychelles</td>\n",
       "      <td>male</td>\n",
       "      <td>178</td>\n",
       "    </tr>\n",
       "    <tr>\n",
       "      <th>4</th>\n",
       "      <td>Asia</td>\n",
       "      <td>Bahrain</td>\n",
       "      <td>female</td>\n",
       "      <td>160</td>\n",
       "    </tr>\n",
       "  </tbody>\n",
       "</table>\n",
       "</div>"
      ],
      "text/plain": [
       "  ContinentName     Country     sex  suicides_no\n",
       "0        Africa   Mauritius  female         1990\n",
       "1        Africa   Mauritius    male         5798\n",
       "2        Africa  Seychelles  female           18\n",
       "3        Africa  Seychelles    male          178\n",
       "4          Asia     Bahrain  female          160"
      ]
     },
     "execution_count": 7,
     "metadata": {},
     "output_type": "execute_result"
    }
   ],
   "source": [
    "selected_columns2 = combined_data_by_country[['ContinentName', 'Country', 'sex', 'suicides_no', ]]\n",
    "selected_columns2.head()"
   ]
  },
  {
   "cell_type": "code",
   "execution_count": 8,
   "metadata": {},
   "outputs": [
    {
     "data": {
      "text/html": [
       "<div>\n",
       "<style scoped>\n",
       "    .dataframe tbody tr th:only-of-type {\n",
       "        vertical-align: middle;\n",
       "    }\n",
       "\n",
       "    .dataframe tbody tr th {\n",
       "        vertical-align: top;\n",
       "    }\n",
       "\n",
       "    .dataframe thead th {\n",
       "        text-align: right;\n",
       "    }\n",
       "</style>\n",
       "<table border=\"1\" class=\"dataframe\">\n",
       "  <thead>\n",
       "    <tr style=\"text-align: right;\">\n",
       "      <th></th>\n",
       "      <th>ContinentName</th>\n",
       "      <th>Country</th>\n",
       "      <th>sex</th>\n",
       "      <th>suicides_no</th>\n",
       "    </tr>\n",
       "  </thead>\n",
       "  <tbody>\n",
       "    <tr>\n",
       "      <th>0</th>\n",
       "      <td>Africa</td>\n",
       "      <td>Mauritius</td>\n",
       "      <td>female</td>\n",
       "      <td>1990</td>\n",
       "    </tr>\n",
       "    <tr>\n",
       "      <th>1</th>\n",
       "      <td>Africa</td>\n",
       "      <td>Mauritius</td>\n",
       "      <td>male</td>\n",
       "      <td>5798</td>\n",
       "    </tr>\n",
       "    <tr>\n",
       "      <th>2</th>\n",
       "      <td>Africa</td>\n",
       "      <td>Seychelles</td>\n",
       "      <td>female</td>\n",
       "      <td>18</td>\n",
       "    </tr>\n",
       "    <tr>\n",
       "      <th>3</th>\n",
       "      <td>Africa</td>\n",
       "      <td>Seychelles</td>\n",
       "      <td>male</td>\n",
       "      <td>178</td>\n",
       "    </tr>\n",
       "  </tbody>\n",
       "</table>\n",
       "</div>"
      ],
      "text/plain": [
       "  ContinentName     Country     sex  suicides_no\n",
       "0        Africa   Mauritius  female         1990\n",
       "1        Africa   Mauritius    male         5798\n",
       "2        Africa  Seychelles  female           18\n",
       "3        Africa  Seychelles    male          178"
      ]
     },
     "execution_count": 8,
     "metadata": {},
     "output_type": "execute_result"
    }
   ],
   "source": [
    "Africa = selected_columns2.loc[selected_columns2['ContinentName'] == 'Africa']\n",
    "Africa\n",
    "# Africa = Africa[['suicides_no']]\n",
    "\n",
    "# Europe = selected_columns2.loc[selected_columns2['ContinentName'] == 'Europe']\n",
    "# Europe = Europe[['suicides_no']]\n",
    "\n",
    "# Asia = selected_columns2.loc[selected_columns2['ContinentName'] == 'Asia']\n",
    "# Asia = Asia[['suicides_no']]\n",
    "\n",
    "# Australia = selected_columns2.loc[selected_columns2['ContinentName'] == 'Australia']\n",
    "# Australia = Australia[['suicides_no']]\n",
    "\n",
    "# North_America = selected_columns2.loc[selected_columns2['ContinentName'] == 'North America']\n",
    "# North_America = North_America[['suicides_no']]\n",
    "\n",
    "# South_America = selected_columns2.loc[selected_columns2['ContinentName'] == 'South America']\n",
    "# South_America = group6[['suicides_no']]"
   ]
  },
  {
   "cell_type": "code",
   "execution_count": 9,
   "metadata": {},
   "outputs": [
    {
     "ename": "NameError",
     "evalue": "name 'Europe' is not defined",
     "output_type": "error",
     "traceback": [
      "\u001b[1;31m---------------------------------------------------------------------------\u001b[0m",
      "\u001b[1;31mNameError\u001b[0m                                 Traceback (most recent call last)",
      "\u001b[1;32m<ipython-input-9-5cb3baf7bfb1>\u001b[0m in \u001b[0;36m<module>\u001b[1;34m\u001b[0m\n\u001b[0;32m      1\u001b[0m \u001b[1;31m# Perform the ANOVA\u001b[0m\u001b[1;33m\u001b[0m\u001b[1;33m\u001b[0m\u001b[1;33m\u001b[0m\u001b[0m\n\u001b[1;32m----> 2\u001b[1;33m \u001b[0mstats\u001b[0m\u001b[1;33m.\u001b[0m\u001b[0mf_oneway\u001b[0m\u001b[1;33m(\u001b[0m\u001b[0mAfrica\u001b[0m\u001b[1;33m,\u001b[0m \u001b[0mEurope\u001b[0m\u001b[1;33m,\u001b[0m \u001b[0mAsia\u001b[0m\u001b[1;33m,\u001b[0m \u001b[0mAustralia\u001b[0m\u001b[1;33m,\u001b[0m \u001b[0mNorth_America\u001b[0m\u001b[1;33m,\u001b[0m \u001b[0mSouth_America\u001b[0m\u001b[1;33m)\u001b[0m\u001b[1;33m\u001b[0m\u001b[1;33m\u001b[0m\u001b[0m\n\u001b[0m",
      "\u001b[1;31mNameError\u001b[0m: name 'Europe' is not defined"
     ]
    }
   ],
   "source": [
    "# Perform the ANOVA\n",
    "stats.f_oneway(Africa, Europe, Asia, Australia, North_America, South_America)"
   ]
  },
  {
   "cell_type": "code",
   "execution_count": null,
   "metadata": {},
   "outputs": [],
   "source": [
    "selected_column2 = combined_data_by_country[['sex', 'suicides_no']]"
   ]
  },
  {
   "cell_type": "code",
   "execution_count": null,
   "metadata": {},
   "outputs": [],
   "source": [
    "femaleincountry = selected_column2.loc[selected_column2['sex'] == 'female']\n",
    "femaleincountry = femaleincountry[['suicides_no']]\n",
    "femaleincountry.head()"
   ]
  },
  {
   "cell_type": "code",
   "execution_count": null,
   "metadata": {},
   "outputs": [],
   "source": [
    "femaleincountrysum = femaleincountry.sum()"
   ]
  },
  {
   "cell_type": "code",
   "execution_count": null,
   "metadata": {},
   "outputs": [],
   "source": [
    "maleincountry = selected_column2.loc[selected_column2['sex'] == 'male']\n",
    "maleincountry = maleincountry[['suicides_no']]\n",
    "maleincountry.head()"
   ]
  },
  {
   "cell_type": "code",
   "execution_count": null,
   "metadata": {},
   "outputs": [],
   "source": [
    "maleincountrysum = maleincountry.sum()"
   ]
  },
  {
   "cell_type": "code",
   "execution_count": null,
   "metadata": {},
   "outputs": [],
   "source": [
    "femaleincountrypercentage = (femaleincountrysum / (femaleincountrysum + maleincountrysum)) * 100\n",
    "femaleincountrypercentage"
   ]
  },
  {
   "cell_type": "code",
   "execution_count": null,
   "metadata": {},
   "outputs": [],
   "source": [
    "maleincountrypercentage = (maleincountrysum / (femaleincountrysum + maleincountrysum)) * 100\n",
    "maleincountrypercentage"
   ]
  },
  {
   "cell_type": "code",
   "execution_count": null,
   "metadata": {},
   "outputs": [],
   "source": [
    "stats.ttest_ind(femaleincountry, maleincountry, equal_var=False)"
   ]
  },
  {
   "cell_type": "markdown",
   "metadata": {},
   "source": [
    "regression for population "
   ]
  },
  {
   "cell_type": "code",
   "execution_count": 9,
   "metadata": {},
   "outputs": [
    {
     "data": {
      "text/html": [
       "<div>\n",
       "<style scoped>\n",
       "    .dataframe tbody tr th:only-of-type {\n",
       "        vertical-align: middle;\n",
       "    }\n",
       "\n",
       "    .dataframe tbody tr th {\n",
       "        vertical-align: top;\n",
       "    }\n",
       "\n",
       "    .dataframe thead th {\n",
       "        text-align: right;\n",
       "    }\n",
       "</style>\n",
       "<table border=\"1\" class=\"dataframe\">\n",
       "  <thead>\n",
       "    <tr style=\"text-align: right;\">\n",
       "      <th></th>\n",
       "      <th>ContinentName</th>\n",
       "      <th>country</th>\n",
       "      <th>suicides_no</th>\n",
       "      <th>population</th>\n",
       "    </tr>\n",
       "  </thead>\n",
       "  <tbody>\n",
       "    <tr>\n",
       "      <th>0</th>\n",
       "      <td>Africa</td>\n",
       "      <td>Mauritius</td>\n",
       "      <td>10.0</td>\n",
       "      <td>87466.0</td>\n",
       "    </tr>\n",
       "    <tr>\n",
       "      <th>1</th>\n",
       "      <td>Africa</td>\n",
       "      <td>Seychelles</td>\n",
       "      <td>0.0</td>\n",
       "      <td>6448.0</td>\n",
       "    </tr>\n",
       "    <tr>\n",
       "      <th>2</th>\n",
       "      <td>Africa</td>\n",
       "      <td>South Africa</td>\n",
       "      <td>31.0</td>\n",
       "      <td>3638045.0</td>\n",
       "    </tr>\n",
       "    <tr>\n",
       "      <th>3</th>\n",
       "      <td>Asia</td>\n",
       "      <td>Bahrain</td>\n",
       "      <td>2.0</td>\n",
       "      <td>66484.0</td>\n",
       "    </tr>\n",
       "    <tr>\n",
       "      <th>4</th>\n",
       "      <td>Asia</td>\n",
       "      <td>Israel</td>\n",
       "      <td>30.0</td>\n",
       "      <td>465247.0</td>\n",
       "    </tr>\n",
       "  </tbody>\n",
       "</table>\n",
       "</div>"
      ],
      "text/plain": [
       "  ContinentName       country  suicides_no  population\n",
       "0        Africa     Mauritius         10.0     87466.0\n",
       "1        Africa    Seychelles          0.0      6448.0\n",
       "2        Africa  South Africa         31.0   3638045.0\n",
       "3          Asia       Bahrain          2.0     66484.0\n",
       "4          Asia        Israel         30.0    465247.0"
      ]
     },
     "execution_count": 9,
     "metadata": {},
     "output_type": "execute_result"
    }
   ],
   "source": [
    "\n",
    "POSTGRES = {\n",
    "'user': 'postgres',\n",
    "'pw': api_key,\n",
    "'db': 'suicide_rates_overview_db',\n",
    "'host': 'localhost',\n",
    "'port': '5432',\n",
    "}\n",
    "\n",
    "\n",
    "\n",
    "engine = create_engine('postgresql://%(user)s:%(pw)s@%(host)s:%(port)s/%(db)s'% POSTGRES)\n",
    "df_suicide_rates_df = pd.read_sql('select * from suicide_rates_db', engine)\n",
    "df_suicide_rates_df.head()\n",
    "\n",
    "\n",
    "\n",
    "continent_coordinates = requests.get(\"http://techslides.com/demos/country-capitals.json\")\n",
    "continent_df = pd.read_json(json.dumps(continent_coordinates.json()), orient= 'list')\n",
    "continent_df[\"ContinentName\"] = continent_df[\"ContinentName\"].str.replace(\" \", \"\")\n",
    "continent_df\n",
    "\n",
    "combined_data =df_suicide_rates_df.merge(continent_df, left_on =\"country\", right_on='CountryName')\n",
    "combined_data\n",
    "\n",
    "\n",
    "combined_data = combined_data[['ContinentName', 'country', 'year', 'suicides_no', 'population', 'CapitalLatitude', 'CapitalLongitude']]\n",
    "combined_data.head()\n",
    "\n",
    "\n",
    "\n",
    "combined_data['suicides_no'] = pd.to_numeric(combined_data['suicides_no'], errors='coerce')\n",
    "combined_data['CapitalLatitude'] = pd.to_numeric(combined_data['CapitalLatitude'], errors='coerce')\n",
    "combined_data['CapitalLongitude'] = pd.to_numeric(combined_data['CapitalLongitude'], errors='coerce')\n",
    "combined_data = combined_data.dropna()\n",
    "combined_data\n",
    "\n",
    "\n",
    "continent_pic_file = pd.read_csv(\"Data/Continents_Images.csv\")\n",
    "continent_pic_file\n",
    "\n",
    "combined_data =combined_data.merge(continent_pic_file, left_on =\"ContinentName\", right_on='Continent')\n",
    "combined_data\n",
    "\n",
    "\n",
    "combined_data_by_continent = combined_data.groupby(['ContinentName', 'country']).agg({'suicides_no' : 'mean', 'population': 'mean'})\n",
    "combined_data_by_continent\n",
    "combined_data_by_continent = combined_data_by_continent.round(0)\n",
    "\n",
    "combined_data_by_continent = combined_data_by_continent.reset_index()\n",
    "combined_data_by_continent.head()\n",
    "# populationandsuicide = combined_data_by_continent.to_json(orient='records', index=True)\n",
    "# populationandsuicide"
   ]
  },
  {
   "cell_type": "code",
   "execution_count": 10,
   "metadata": {},
   "outputs": [
    {
     "data": {
      "text/html": [
       "<div>\n",
       "<style scoped>\n",
       "    .dataframe tbody tr th:only-of-type {\n",
       "        vertical-align: middle;\n",
       "    }\n",
       "\n",
       "    .dataframe tbody tr th {\n",
       "        vertical-align: top;\n",
       "    }\n",
       "\n",
       "    .dataframe thead th {\n",
       "        text-align: right;\n",
       "    }\n",
       "</style>\n",
       "<table border=\"1\" class=\"dataframe\">\n",
       "  <thead>\n",
       "    <tr style=\"text-align: right;\">\n",
       "      <th></th>\n",
       "      <th>ContinentName</th>\n",
       "      <th>country</th>\n",
       "      <th>suicides_no</th>\n",
       "      <th>population</th>\n",
       "    </tr>\n",
       "  </thead>\n",
       "  <tbody>\n",
       "    <tr>\n",
       "      <th>0</th>\n",
       "      <td>Africa</td>\n",
       "      <td>Mauritius</td>\n",
       "      <td>10.0</td>\n",
       "      <td>87466.0</td>\n",
       "    </tr>\n",
       "    <tr>\n",
       "      <th>1</th>\n",
       "      <td>Africa</td>\n",
       "      <td>Seychelles</td>\n",
       "      <td>0.0</td>\n",
       "      <td>6448.0</td>\n",
       "    </tr>\n",
       "    <tr>\n",
       "      <th>2</th>\n",
       "      <td>Africa</td>\n",
       "      <td>South Africa</td>\n",
       "      <td>31.0</td>\n",
       "      <td>3638045.0</td>\n",
       "    </tr>\n",
       "  </tbody>\n",
       "</table>\n",
       "</div>"
      ],
      "text/plain": [
       "  ContinentName       country  suicides_no  population\n",
       "0        Africa     Mauritius         10.0     87466.0\n",
       "1        Africa    Seychelles          0.0      6448.0\n",
       "2        Africa  South Africa         31.0   3638045.0"
      ]
     },
     "execution_count": 10,
     "metadata": {},
     "output_type": "execute_result"
    }
   ],
   "source": [
    "africacontinent= combined_data_by_continent.loc[combined_data_by_continent['ContinentName'] == 'Africa']\n",
    "africacontinent"
   ]
  },
  {
   "cell_type": "code",
   "execution_count": 11,
   "metadata": {},
   "outputs": [],
   "source": [
    "suicide_no_africa = africacontinent['suicides_no']"
   ]
  },
  {
   "cell_type": "code",
   "execution_count": 12,
   "metadata": {},
   "outputs": [],
   "source": [
    "population_africa = africacontinent['population']"
   ]
  },
  {
   "cell_type": "code",
   "execution_count": 13,
   "metadata": {},
   "outputs": [
    {
     "data": {
      "text/plain": [
       "LinregressResult(slope=125134.38482023968, intercept=-466183.59254327556, rvalue=0.9547456863871097, pvalue=0.1922545737229231, stderr=38981.99674034027)"
      ]
     },
     "execution_count": 13,
     "metadata": {},
     "output_type": "execute_result"
    }
   ],
   "source": [
    "linregress(suicide_no_africa, population_africa)"
   ]
  },
  {
   "cell_type": "code",
   "execution_count": 14,
   "metadata": {},
   "outputs": [
    {
     "data": {
      "text/html": [
       "<div>\n",
       "<style scoped>\n",
       "    .dataframe tbody tr th:only-of-type {\n",
       "        vertical-align: middle;\n",
       "    }\n",
       "\n",
       "    .dataframe tbody tr th {\n",
       "        vertical-align: top;\n",
       "    }\n",
       "\n",
       "    .dataframe thead th {\n",
       "        text-align: right;\n",
       "    }\n",
       "</style>\n",
       "<table border=\"1\" class=\"dataframe\">\n",
       "  <thead>\n",
       "    <tr style=\"text-align: right;\">\n",
       "      <th></th>\n",
       "      <th>ContinentName</th>\n",
       "      <th>country</th>\n",
       "      <th>suicides_no</th>\n",
       "      <th>population</th>\n",
       "    </tr>\n",
       "  </thead>\n",
       "  <tbody>\n",
       "    <tr>\n",
       "      <th>3</th>\n",
       "      <td>Asia</td>\n",
       "      <td>Bahrain</td>\n",
       "      <td>2.0</td>\n",
       "      <td>66484.0</td>\n",
       "    </tr>\n",
       "    <tr>\n",
       "      <th>4</th>\n",
       "      <td>Asia</td>\n",
       "      <td>Israel</td>\n",
       "      <td>30.0</td>\n",
       "      <td>465247.0</td>\n",
       "    </tr>\n",
       "    <tr>\n",
       "      <th>5</th>\n",
       "      <td>Asia</td>\n",
       "      <td>Japan</td>\n",
       "      <td>2169.0</td>\n",
       "      <td>9895228.0</td>\n",
       "    </tr>\n",
       "    <tr>\n",
       "      <th>6</th>\n",
       "      <td>Asia</td>\n",
       "      <td>Kazakhstan</td>\n",
       "      <td>325.0</td>\n",
       "      <td>1209980.0</td>\n",
       "    </tr>\n",
       "    <tr>\n",
       "      <th>7</th>\n",
       "      <td>Asia</td>\n",
       "      <td>Kuwait</td>\n",
       "      <td>3.0</td>\n",
       "      <td>190367.0</td>\n",
       "    </tr>\n",
       "  </tbody>\n",
       "</table>\n",
       "</div>"
      ],
      "text/plain": [
       "  ContinentName     country  suicides_no  population\n",
       "3          Asia     Bahrain          2.0     66484.0\n",
       "4          Asia      Israel         30.0    465247.0\n",
       "5          Asia       Japan       2169.0   9895228.0\n",
       "6          Asia  Kazakhstan        325.0   1209980.0\n",
       "7          Asia      Kuwait          3.0    190367.0"
      ]
     },
     "execution_count": 14,
     "metadata": {},
     "output_type": "execute_result"
    }
   ],
   "source": [
    "Asiacontinent= combined_data_by_continent.loc[combined_data_by_continent['ContinentName'] == 'Asia']\n",
    "Asiacontinent.head()"
   ]
  },
  {
   "cell_type": "code",
   "execution_count": 15,
   "metadata": {},
   "outputs": [],
   "source": [
    "suicide_no_asia = Asiacontinent['suicides_no']"
   ]
  },
  {
   "cell_type": "code",
   "execution_count": 16,
   "metadata": {},
   "outputs": [],
   "source": [
    "population_asia = Asiacontinent['population']"
   ]
  },
  {
   "cell_type": "code",
   "execution_count": 17,
   "metadata": {},
   "outputs": [
    {
     "data": {
      "text/plain": [
       "LinregressResult(slope=4409.2800644905465, intercept=643281.0845822954, rvalue=0.8419375746233908, pvalue=1.1781346215888804e-05, stderr=706.4469850813318)"
      ]
     },
     "execution_count": 17,
     "metadata": {},
     "output_type": "execute_result"
    }
   ],
   "source": [
    "linregress(suicide_no_asia, population_asia)"
   ]
  },
  {
   "cell_type": "code",
   "execution_count": 18,
   "metadata": {},
   "outputs": [
    {
     "data": {
      "text/html": [
       "<div>\n",
       "<style scoped>\n",
       "    .dataframe tbody tr th:only-of-type {\n",
       "        vertical-align: middle;\n",
       "    }\n",
       "\n",
       "    .dataframe tbody tr th {\n",
       "        vertical-align: top;\n",
       "    }\n",
       "\n",
       "    .dataframe thead th {\n",
       "        text-align: right;\n",
       "    }\n",
       "</style>\n",
       "<table border=\"1\" class=\"dataframe\">\n",
       "  <thead>\n",
       "    <tr style=\"text-align: right;\">\n",
       "      <th></th>\n",
       "      <th>ContinentName</th>\n",
       "      <th>country</th>\n",
       "      <th>suicides_no</th>\n",
       "      <th>population</th>\n",
       "    </tr>\n",
       "  </thead>\n",
       "  <tbody>\n",
       "    <tr>\n",
       "      <th>21</th>\n",
       "      <td>Australia</td>\n",
       "      <td>Australia</td>\n",
       "      <td>195.0</td>\n",
       "      <td>1506605.0</td>\n",
       "    </tr>\n",
       "    <tr>\n",
       "      <th>22</th>\n",
       "      <td>Australia</td>\n",
       "      <td>Fiji</td>\n",
       "      <td>2.0</td>\n",
       "      <td>62026.0</td>\n",
       "    </tr>\n",
       "    <tr>\n",
       "      <th>23</th>\n",
       "      <td>Australia</td>\n",
       "      <td>Kiribati</td>\n",
       "      <td>0.0</td>\n",
       "      <td>5618.0</td>\n",
       "    </tr>\n",
       "    <tr>\n",
       "      <th>24</th>\n",
       "      <td>Australia</td>\n",
       "      <td>New Zealand</td>\n",
       "      <td>41.0</td>\n",
       "      <td>296237.0</td>\n",
       "    </tr>\n",
       "  </tbody>\n",
       "</table>\n",
       "</div>"
      ],
      "text/plain": [
       "   ContinentName      country  suicides_no  population\n",
       "21     Australia    Australia        195.0   1506605.0\n",
       "22     Australia         Fiji          2.0     62026.0\n",
       "23     Australia     Kiribati          0.0      5618.0\n",
       "24     Australia  New Zealand         41.0    296237.0"
      ]
     },
     "execution_count": 18,
     "metadata": {},
     "output_type": "execute_result"
    }
   ],
   "source": [
    "Australiacontinent= combined_data_by_continent.loc[combined_data_by_continent['ContinentName'] == 'Australia']\n",
    "Australiacontinent.head()"
   ]
  },
  {
   "cell_type": "code",
   "execution_count": 19,
   "metadata": {},
   "outputs": [],
   "source": [
    "suicide_no_australia = Australiacontinent['suicides_no']"
   ]
  },
  {
   "cell_type": "code",
   "execution_count": 20,
   "metadata": {},
   "outputs": [],
   "source": [
    "population_australia = Australiacontinent['population']"
   ]
  },
  {
   "cell_type": "code",
   "execution_count": 21,
   "metadata": {},
   "outputs": [
    {
     "data": {
      "text/plain": [
       "LinregressResult(slope=7623.148733805629, intercept=14044.150338565116, rvalue=0.999293312864103, pvalue=0.000706687135897055, stderr=202.7581237873064)"
      ]
     },
     "execution_count": 21,
     "metadata": {},
     "output_type": "execute_result"
    }
   ],
   "source": [
    "linregress(suicide_no_australia, population_australia)"
   ]
  },
  {
   "cell_type": "code",
   "execution_count": 22,
   "metadata": {},
   "outputs": [
    {
     "data": {
      "text/html": [
       "<div>\n",
       "<style scoped>\n",
       "    .dataframe tbody tr th:only-of-type {\n",
       "        vertical-align: middle;\n",
       "    }\n",
       "\n",
       "    .dataframe tbody tr th {\n",
       "        vertical-align: top;\n",
       "    }\n",
       "\n",
       "    .dataframe thead th {\n",
       "        text-align: right;\n",
       "    }\n",
       "</style>\n",
       "<table border=\"1\" class=\"dataframe\">\n",
       "  <thead>\n",
       "    <tr style=\"text-align: right;\">\n",
       "      <th></th>\n",
       "      <th>ContinentName</th>\n",
       "      <th>country</th>\n",
       "      <th>suicides_no</th>\n",
       "      <th>population</th>\n",
       "    </tr>\n",
       "  </thead>\n",
       "  <tbody>\n",
       "    <tr>\n",
       "      <th>79</th>\n",
       "      <td>SouthAmerica</td>\n",
       "      <td>Argentina</td>\n",
       "      <td>221.0</td>\n",
       "      <td>2784907.0</td>\n",
       "    </tr>\n",
       "    <tr>\n",
       "      <th>80</th>\n",
       "      <td>SouthAmerica</td>\n",
       "      <td>Brazil</td>\n",
       "      <td>609.0</td>\n",
       "      <td>13054015.0</td>\n",
       "    </tr>\n",
       "    <tr>\n",
       "      <th>81</th>\n",
       "      <td>SouthAmerica</td>\n",
       "      <td>Chile</td>\n",
       "      <td>110.0</td>\n",
       "      <td>1149530.0</td>\n",
       "    </tr>\n",
       "    <tr>\n",
       "      <th>82</th>\n",
       "      <td>SouthAmerica</td>\n",
       "      <td>Colombia</td>\n",
       "      <td>143.0</td>\n",
       "      <td>2978339.0</td>\n",
       "    </tr>\n",
       "    <tr>\n",
       "      <th>83</th>\n",
       "      <td>SouthAmerica</td>\n",
       "      <td>Ecuador</td>\n",
       "      <td>56.0</td>\n",
       "      <td>925613.0</td>\n",
       "    </tr>\n",
       "  </tbody>\n",
       "</table>\n",
       "</div>"
      ],
      "text/plain": [
       "   ContinentName    country  suicides_no  population\n",
       "79  SouthAmerica  Argentina        221.0   2784907.0\n",
       "80  SouthAmerica     Brazil        609.0  13054015.0\n",
       "81  SouthAmerica      Chile        110.0   1149530.0\n",
       "82  SouthAmerica   Colombia        143.0   2978339.0\n",
       "83  SouthAmerica    Ecuador         56.0    925613.0"
      ]
     },
     "execution_count": 22,
     "metadata": {},
     "output_type": "execute_result"
    }
   ],
   "source": [
    "southamericacontinent= combined_data_by_continent.loc[combined_data_by_continent['ContinentName'] == 'SouthAmerica']\n",
    "southamericacontinent.head()"
   ]
  },
  {
   "cell_type": "code",
   "execution_count": 23,
   "metadata": {},
   "outputs": [],
   "source": [
    "\n",
    "\n",
    "suicides_no_southamerica = southamericacontinent['suicides_no']"
   ]
  },
  {
   "cell_type": "code",
   "execution_count": 24,
   "metadata": {},
   "outputs": [],
   "source": [
    "population_southamerica = southamericacontinent['population']\n"
   ]
  },
  {
   "cell_type": "code",
   "execution_count": 25,
   "metadata": {},
   "outputs": [
    {
     "data": {
      "text/plain": [
       "LinregressResult(slope=21313.24476541376, intercept=-463529.35179451713, rvalue=0.9865805842987864, pvalue=9.097559549129612e-07, stderr=1333.1772212130659)"
      ]
     },
     "execution_count": 25,
     "metadata": {},
     "output_type": "execute_result"
    }
   ],
   "source": [
    "linregress(suicides_no_southamerica, population_southamerica)"
   ]
  },
  {
   "cell_type": "code",
   "execution_count": 26,
   "metadata": {},
   "outputs": [
    {
     "data": {
      "text/html": [
       "<div>\n",
       "<style scoped>\n",
       "    .dataframe tbody tr th:only-of-type {\n",
       "        vertical-align: middle;\n",
       "    }\n",
       "\n",
       "    .dataframe tbody tr th {\n",
       "        vertical-align: top;\n",
       "    }\n",
       "\n",
       "    .dataframe thead th {\n",
       "        text-align: right;\n",
       "    }\n",
       "</style>\n",
       "<table border=\"1\" class=\"dataframe\">\n",
       "  <thead>\n",
       "    <tr style=\"text-align: right;\">\n",
       "      <th></th>\n",
       "      <th>ContinentName</th>\n",
       "      <th>country</th>\n",
       "      <th>suicides_no</th>\n",
       "      <th>population</th>\n",
       "    </tr>\n",
       "  </thead>\n",
       "  <tbody>\n",
       "    <tr>\n",
       "      <th>67</th>\n",
       "      <td>NorthAmerica</td>\n",
       "      <td>Antigua and Barbuda</td>\n",
       "      <td>0.0</td>\n",
       "      <td>6143.0</td>\n",
       "    </tr>\n",
       "    <tr>\n",
       "      <th>68</th>\n",
       "      <td>NorthAmerica</td>\n",
       "      <td>Aruba</td>\n",
       "      <td>1.0</td>\n",
       "      <td>7498.0</td>\n",
       "    </tr>\n",
       "    <tr>\n",
       "      <th>69</th>\n",
       "      <td>NorthAmerica</td>\n",
       "      <td>Bahamas</td>\n",
       "      <td>0.0</td>\n",
       "      <td>23757.0</td>\n",
       "    </tr>\n",
       "    <tr>\n",
       "      <th>70</th>\n",
       "      <td>NorthAmerica</td>\n",
       "      <td>Barbados</td>\n",
       "      <td>1.0</td>\n",
       "      <td>20712.0</td>\n",
       "    </tr>\n",
       "    <tr>\n",
       "      <th>71</th>\n",
       "      <td>NorthAmerica</td>\n",
       "      <td>Cuba</td>\n",
       "      <td>144.0</td>\n",
       "      <td>874271.0</td>\n",
       "    </tr>\n",
       "  </tbody>\n",
       "</table>\n",
       "</div>"
      ],
      "text/plain": [
       "   ContinentName              country  suicides_no  population\n",
       "67  NorthAmerica  Antigua and Barbuda          0.0      6143.0\n",
       "68  NorthAmerica                Aruba          1.0      7498.0\n",
       "69  NorthAmerica              Bahamas          0.0     23757.0\n",
       "70  NorthAmerica             Barbados          1.0     20712.0\n",
       "71  NorthAmerica                 Cuba        144.0    874271.0"
      ]
     },
     "execution_count": 26,
     "metadata": {},
     "output_type": "execute_result"
    }
   ],
   "source": [
    "northamericacontinent= combined_data_by_continent.loc[combined_data_by_continent['ContinentName'] == 'NorthAmerica']\n",
    "northamericacontinent.head()"
   ]
  },
  {
   "cell_type": "code",
   "execution_count": 27,
   "metadata": {},
   "outputs": [],
   "source": [
    "suicides_no_northamerica = northamericacontinent['suicides_no']"
   ]
  },
  {
   "cell_type": "code",
   "execution_count": 28,
   "metadata": {},
   "outputs": [],
   "source": [
    "population_northamerica = northamericacontinent['population']"
   ]
  },
  {
   "cell_type": "code",
   "execution_count": 29,
   "metadata": {},
   "outputs": [
    {
     "data": {
      "text/plain": [
       "LinregressResult(slope=5932.225874526076, intercept=36843.03659060015, rvalue=0.9703067550956793, pvalue=1.729512944165e-07, stderr=467.6321668957776)"
      ]
     },
     "execution_count": 29,
     "metadata": {},
     "output_type": "execute_result"
    }
   ],
   "source": [
    "linregress(suicides_no_northamerica, population_northamerica)"
   ]
  },
  {
   "cell_type": "code",
   "execution_count": 30,
   "metadata": {},
   "outputs": [
    {
     "data": {
      "text/html": [
       "<div>\n",
       "<style scoped>\n",
       "    .dataframe tbody tr th:only-of-type {\n",
       "        vertical-align: middle;\n",
       "    }\n",
       "\n",
       "    .dataframe tbody tr th {\n",
       "        vertical-align: top;\n",
       "    }\n",
       "\n",
       "    .dataframe thead th {\n",
       "        text-align: right;\n",
       "    }\n",
       "</style>\n",
       "<table border=\"1\" class=\"dataframe\">\n",
       "  <thead>\n",
       "    <tr style=\"text-align: right;\">\n",
       "      <th></th>\n",
       "      <th>ContinentName</th>\n",
       "      <th>country</th>\n",
       "      <th>suicides_no</th>\n",
       "      <th>population</th>\n",
       "    </tr>\n",
       "  </thead>\n",
       "  <tbody>\n",
       "    <tr>\n",
       "      <th>25</th>\n",
       "      <td>Europe</td>\n",
       "      <td>Albania</td>\n",
       "      <td>7.0</td>\n",
       "      <td>236081.0</td>\n",
       "    </tr>\n",
       "    <tr>\n",
       "      <th>26</th>\n",
       "      <td>Europe</td>\n",
       "      <td>Armenia</td>\n",
       "      <td>6.0</td>\n",
       "      <td>259558.0</td>\n",
       "    </tr>\n",
       "    <tr>\n",
       "      <th>27</th>\n",
       "      <td>Europe</td>\n",
       "      <td>Austria</td>\n",
       "      <td>131.0</td>\n",
       "      <td>638359.0</td>\n",
       "    </tr>\n",
       "    <tr>\n",
       "      <th>28</th>\n",
       "      <td>Europe</td>\n",
       "      <td>Azerbaijan</td>\n",
       "      <td>9.0</td>\n",
       "      <td>582241.0</td>\n",
       "    </tr>\n",
       "    <tr>\n",
       "      <th>29</th>\n",
       "      <td>Europe</td>\n",
       "      <td>Belarus</td>\n",
       "      <td>238.0</td>\n",
       "      <td>783223.0</td>\n",
       "    </tr>\n",
       "  </tbody>\n",
       "</table>\n",
       "</div>"
      ],
      "text/plain": [
       "   ContinentName     country  suicides_no  population\n",
       "25        Europe     Albania          7.0    236081.0\n",
       "26        Europe     Armenia          6.0    259558.0\n",
       "27        Europe     Austria        131.0    638359.0\n",
       "28        Europe  Azerbaijan          9.0    582241.0\n",
       "29        Europe     Belarus        238.0    783223.0"
      ]
     },
     "execution_count": 30,
     "metadata": {},
     "output_type": "execute_result"
    }
   ],
   "source": [
    "europecontinent= combined_data_by_continent.loc[combined_data_by_continent['ContinentName'] == 'Europe']\n",
    "europecontinent.head()"
   ]
  },
  {
   "cell_type": "code",
   "execution_count": 31,
   "metadata": {},
   "outputs": [],
   "source": [
    "suicides_no_europe = europecontinent['suicides_no']"
   ]
  },
  {
   "cell_type": "code",
   "execution_count": 32,
   "metadata": {},
   "outputs": [],
   "source": [
    "population_europe = europecontinent['population']"
   ]
  },
  {
   "cell_type": "code",
   "execution_count": 33,
   "metadata": {},
   "outputs": [
    {
     "data": {
      "text/plain": [
       "LinregressResult(slope=5645.075137082897, intercept=324280.9574435038, rvalue=0.7958303180465162, pvalue=2.9971213928133495e-10, stderr=679.1215735865512)"
      ]
     },
     "execution_count": 33,
     "metadata": {},
     "output_type": "execute_result"
    }
   ],
   "source": [
    "linregress(suicides_no_europe, population_europe)"
   ]
  },
  {
   "cell_type": "code",
   "execution_count": 31,
   "metadata": {},
   "outputs": [
    {
     "data": {
      "text/html": [
       "<div>\n",
       "<style scoped>\n",
       "    .dataframe tbody tr th:only-of-type {\n",
       "        vertical-align: middle;\n",
       "    }\n",
       "\n",
       "    .dataframe tbody tr th {\n",
       "        vertical-align: top;\n",
       "    }\n",
       "\n",
       "    .dataframe thead th {\n",
       "        text-align: right;\n",
       "    }\n",
       "</style>\n",
       "<table border=\"1\" class=\"dataframe\">\n",
       "  <thead>\n",
       "    <tr style=\"text-align: right;\">\n",
       "      <th></th>\n",
       "      <th>ContinentName</th>\n",
       "      <th>country</th>\n",
       "      <th>CapitalLatitude</th>\n",
       "      <th>CapitalLongitude</th>\n",
       "      <th>suicides_no</th>\n",
       "      <th>gdp_per_capita</th>\n",
       "    </tr>\n",
       "  </thead>\n",
       "  <tbody>\n",
       "    <tr>\n",
       "      <th>0</th>\n",
       "      <td>Africa</td>\n",
       "      <td>Mauritius</td>\n",
       "      <td>-20.150000</td>\n",
       "      <td>57.483333</td>\n",
       "      <td>10.0</td>\n",
       "      <td>5507.0</td>\n",
       "    </tr>\n",
       "    <tr>\n",
       "      <th>1</th>\n",
       "      <td>Africa</td>\n",
       "      <td>Seychelles</td>\n",
       "      <td>-4.616667</td>\n",
       "      <td>55.450000</td>\n",
       "      <td>0.0</td>\n",
       "      <td>10656.0</td>\n",
       "    </tr>\n",
       "    <tr>\n",
       "      <th>2</th>\n",
       "      <td>Africa</td>\n",
       "      <td>South Africa</td>\n",
       "      <td>-25.700000</td>\n",
       "      <td>28.216667</td>\n",
       "      <td>31.0</td>\n",
       "      <td>5590.0</td>\n",
       "    </tr>\n",
       "    <tr>\n",
       "      <th>3</th>\n",
       "      <td>Asia</td>\n",
       "      <td>Bahrain</td>\n",
       "      <td>26.233333</td>\n",
       "      <td>50.566667</td>\n",
       "      <td>2.0</td>\n",
       "      <td>18040.0</td>\n",
       "    </tr>\n",
       "    <tr>\n",
       "      <th>4</th>\n",
       "      <td>Asia</td>\n",
       "      <td>Israel</td>\n",
       "      <td>31.766667</td>\n",
       "      <td>35.233333</td>\n",
       "      <td>30.0</td>\n",
       "      <td>23125.0</td>\n",
       "    </tr>\n",
       "  </tbody>\n",
       "</table>\n",
       "</div>"
      ],
      "text/plain": [
       "  ContinentName       country  CapitalLatitude  CapitalLongitude  suicides_no  \\\n",
       "0        Africa     Mauritius       -20.150000         57.483333         10.0   \n",
       "1        Africa    Seychelles        -4.616667         55.450000          0.0   \n",
       "2        Africa  South Africa       -25.700000         28.216667         31.0   \n",
       "3          Asia       Bahrain        26.233333         50.566667          2.0   \n",
       "4          Asia        Israel        31.766667         35.233333         30.0   \n",
       "\n",
       "   gdp_per_capita  \n",
       "0          5507.0  \n",
       "1         10656.0  \n",
       "2          5590.0  \n",
       "3         18040.0  \n",
       "4         23125.0  "
      ]
     },
     "execution_count": 31,
     "metadata": {},
     "output_type": "execute_result"
    }
   ],
   "source": [
    "\n",
    "POSTGRES = {\n",
    "'user': 'postgres',\n",
    "'pw': api_key,\n",
    "'db': 'suicide_rates_overview_db',\n",
    "'host': 'localhost',\n",
    "'port': '5432',\n",
    "}\n",
    "\n",
    "\n",
    "\n",
    "engine = create_engine('postgresql://%(user)s:%(pw)s@%(host)s:%(port)s/%(db)s'% POSTGRES)\n",
    "df_suicide_rates_df = pd.read_sql('select * from suicide_rates_db', engine)\n",
    "df_suicide_rates_df.head()\n",
    "\n",
    "\n",
    "\n",
    "continent_coordinates = requests.get(\"http://techslides.com/demos/country-capitals.json\")\n",
    "continent_df = pd.read_json(json.dumps(continent_coordinates.json()), orient= 'list')\n",
    "continent_df[\"ContinentName\"] = continent_df[\"ContinentName\"].str.replace(\" \", \"\")\n",
    "continent_df\n",
    "\n",
    "combined_data =df_suicide_rates_df.merge(continent_df, left_on =\"country\", right_on='CountryName')\n",
    "combined_data\n",
    "\n",
    "\n",
    "combined_data = combined_data[['ContinentName', 'country', 'suicides_no', 'gdp_per_capita', 'CapitalLatitude', 'CapitalLongitude']]\n",
    "combined_data.head()\n",
    "\n",
    "\n",
    "\n",
    "combined_data['suicides_no'] = pd.to_numeric(combined_data['suicides_no'], errors='coerce')\n",
    "combined_data['CapitalLatitude'] = pd.to_numeric(combined_data['CapitalLatitude'], errors='coerce')\n",
    "combined_data['CapitalLongitude'] = pd.to_numeric(combined_data['CapitalLongitude'], errors='coerce')\n",
    "combined_data = combined_data.dropna()\n",
    "combined_data\n",
    "\n",
    "\n",
    "continent_pic_file = pd.read_csv(\"Data/Continents_Images.csv\")\n",
    "continent_pic_file\n",
    "\n",
    "combined_data =combined_data.merge(continent_pic_file, left_on =\"ContinentName\", right_on='Continent')\n",
    "combined_data\n",
    "\n",
    "\n",
    "combined_data_by_continent = combined_data.groupby(['ContinentName', 'country', 'CapitalLatitude', 'CapitalLongitude']).agg({'suicides_no' : 'mean', 'gdp_per_capita': 'mean'})\n",
    "combined_data_by_continent\n",
    "combined_data_by_continent = combined_data_by_continent.round(0)\n",
    "combined_data_by_continent\n",
    "gdpandsuicide = combined_data_by_continent.reset_index()    \n",
    "#     gdpandsuicide = combined_data_by_continent.to_json(orient='records', index=True)\n",
    "gdpandsuicide.head()"
   ]
  },
  {
   "cell_type": "code",
   "execution_count": 36,
   "metadata": {},
   "outputs": [
    {
     "data": {
      "text/plain": [
       "LinregressResult(slope=-0.003962808435456716, intercept=42.400990632163314, rvalue=-0.7386428357989384, pvalue=0.4709340669282059, stderr=0.0036165209162671496)"
      ]
     },
     "execution_count": 36,
     "metadata": {},
     "output_type": "execute_result"
    }
   ],
   "source": [
    "Africa = gdpandsuicide.loc[gdpandsuicide['ContinentName'] == 'Africa']\n",
    "Africa.head()\n",
    "AfricaGDP = Africa['gdp_per_capita']\n",
    "AfricaGDP.head()\n",
    "Africasuicideno = Africa['suicides_no']\n",
    "Africasuicideno.head()\n",
    "linregress(AfricaGDP, Africasuicideno)"
   ]
  },
  {
   "cell_type": "code",
   "execution_count": 37,
   "metadata": {},
   "outputs": [
    {
     "data": {
      "text/plain": [
       "LinregressResult(slope=0.0033804836248650036, intercept=145.06464327769737, rvalue=0.125544035387102, pvalue=0.619632617005978, stderr=0.006678408477707383)"
      ]
     },
     "execution_count": 37,
     "metadata": {},
     "output_type": "execute_result"
    }
   ],
   "source": [
    "Asia = gdpandsuicide.loc[gdpandsuicide['ContinentName'] == 'Asia']\n",
    "Asia.head()\n",
    "AsiaGDP = Asia['gdp_per_capita']\n",
    "AsiaGDP.head()\n",
    "Asiasuicideno = Asia['suicides_no']\n",
    "Asiasuicideno.head()\n",
    "linregress(AsiaGDP, Asiasuicideno)"
   ]
  },
  {
   "cell_type": "code",
   "execution_count": 38,
   "metadata": {},
   "outputs": [
    {
     "data": {
      "text/plain": [
       "LinregressResult(slope=-0.0002697032190886944, intercept=168.64446305343466, rvalue=-0.02058776317690448, pvalue=0.897032436305714, stderr=0.002070879895294084)"
      ]
     },
     "execution_count": 38,
     "metadata": {},
     "output_type": "execute_result"
    }
   ],
   "source": [
    "Europe = gdpandsuicide.loc[gdpandsuicide['ContinentName'] == 'Europe']\n",
    "Europe.head()\n",
    "EuropeGDP = Europe['gdp_per_capita']\n",
    "EuropeGDP.head()\n",
    "Europesuicideno = Europe['suicides_no']\n",
    "Europesuicideno.head()\n",
    "linregress(EuropeGDP, Europesuicideno)"
   ]
  },
  {
   "cell_type": "code",
   "execution_count": 43,
   "metadata": {},
   "outputs": [
    {
     "data": {
      "text/plain": [
       "LinregressResult(slope=0.03038453578778187, intercept=-15.81721320473281, rvalue=0.3786763575333175, pvalue=0.3149049927856854, stderr=0.028068906796959513)"
      ]
     },
     "execution_count": 43,
     "metadata": {},
     "output_type": "execute_result"
    }
   ],
   "source": [
    "southamerica = gdpandsuicide.loc[gdpandsuicide['ContinentName'] == 'SouthAmerica']\n",
    "southamerica.head()\n",
    "southamericaGDP = southamerica['gdp_per_capita']\n",
    "southamericaGDP.head()\n",
    "southamericasuicideno = southamerica['suicides_no']\n",
    "southamericasuicideno.head()\n",
    "linregress(southamericaGDP, southamericasuicideno)"
   ]
  },
  {
   "cell_type": "code",
   "execution_count": 44,
   "metadata": {},
   "outputs": [
    {
     "data": {
      "text/plain": [
       "LinregressResult(slope=-0.0009936857693856967, intercept=25.816635393204983, rvalue=-0.1962833319651283, pvalue=0.5409278465247496, stderr=0.0015697632664352552)"
      ]
     },
     "execution_count": 44,
     "metadata": {},
     "output_type": "execute_result"
    }
   ],
   "source": [
    "northamerica = gdpandsuicide.loc[gdpandsuicide['ContinentName'] == 'NorthAmerica']\n",
    "northamerica.head()\n",
    "northamericaGDP = northamerica['gdp_per_capita']\n",
    "northamericaGDP.head()\n",
    "northamericasuicideno = northamerica['suicides_no']\n",
    "northamericasuicideno.head()\n",
    "linregress(northamericaGDP, northamericasuicideno)"
   ]
  },
  {
   "cell_type": "code",
   "execution_count": 45,
   "metadata": {},
   "outputs": [
    {
     "data": {
      "text/plain": [
       "LinregressResult(slope=0.005426691036613096, intercept=-21.68872459876853, rvalue=0.8926974870888309, pvalue=0.10730251291116909, stderr=0.0019371414552621067)"
      ]
     },
     "execution_count": 45,
     "metadata": {},
     "output_type": "execute_result"
    }
   ],
   "source": [
    "Australia = gdpandsuicide.loc[gdpandsuicide['ContinentName'] == 'Australia']\n",
    "Australia.head()\n",
    "AustraliaGDP = Australia['gdp_per_capita']\n",
    "AustraliaGDP.head()\n",
    "Australiasuicideno = Australia['suicides_no']\n",
    "Australiasuicideno.head()\n",
    "linregress(AustraliaGDP, Australiasuicideno)"
   ]
  },
  {
   "cell_type": "code",
   "execution_count": null,
   "metadata": {},
   "outputs": [],
   "source": []
  }
 ],
 "metadata": {
  "kernelspec": {
   "display_name": "Python 3",
   "language": "python",
   "name": "python3"
  },
  "language_info": {
   "codemirror_mode": {
    "name": "ipython",
    "version": 3
   },
   "file_extension": ".py",
   "mimetype": "text/x-python",
   "name": "python",
   "nbconvert_exporter": "python",
   "pygments_lexer": "ipython3",
   "version": "3.6.8"
  }
 },
 "nbformat": 4,
 "nbformat_minor": 2
}
