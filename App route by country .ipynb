{
 "cells": [
  {
   "cell_type": "code",
   "execution_count": null,
   "metadata": {},
   "outputs": [],
   "source": [
    "import sqlalchemy\n",
    "from sqlalchemy.ext.automap import automap_base\n",
    "from sqlalchemy.orm import Session\n",
    "from sqlalchemy import create_engine\n",
    "\n",
    "import pandas as pd \n",
    "import requests\n",
    "import json\n"
   ]
  },
  {
   "cell_type": "code",
   "execution_count": null,
   "metadata": {},
   "outputs": [],
   "source": []
  },
  {
   "cell_type": "code",
   "execution_count": 51,
   "metadata": {},
   "outputs": [],
   "source": [
    "\n",
    "df_suicide_rates_df = pd.read_csv(\"Data/Suicide_Rates_Data.csv\")\n",
    "df_suicide_rates_df.head() \n",
    "\n",
    "countries_coordinates = requests.get(\"http://techslides.com/demos/country-capitals.json\")\n",
    "#countries_coordinates = countries_coordinates.json()\n",
    "\n",
    "countries_df = pd.read_json(json.dumps(countries_coordinates.json()), orient= 'list')\n",
    "\n",
    "combined_data =df_suicide_rates_df.merge(countries_df, left_on =\"country\", right_on='CountryName')\n",
    "\n",
    "\n",
    "combined_data = combined_data[['country', 'sex', 'suicides_no', 'CapitalLatitude', 'CapitalLongitude', 'ContinentName']]\n",
    "combined_data.head()\n",
    "\n",
    "combined_data.to_json()\n",
    "\n",
    "combined_data['suicides_no'] = pd.to_numeric(combined_data['suicides_no'], errors='coerce')\n",
    "combined_data['CapitalLatitude'] = pd.to_numeric(combined_data['CapitalLatitude'], errors='coerce')\n",
    "combined_data['CapitalLongitude'] = pd.to_numeric(combined_data['CapitalLongitude'], errors='coerce')\n",
    "combined_data = combined_data.dropna()\n",
    "\n",
    "combined_data_by_continent = combined_data.groupby(['ContinentName', 'sex']).agg({'suicides_no' : 'sum', 'CapitalLongitude': 'mean', 'CapitalLatitude': 'mean'})\n",
    "suicide_by_continent = combined_data_by_continent.to_json()\n",
    "\n",
    "\n",
    "\n",
    "combined_data_by_country = combined_data.groupby(['country', 'sex']).agg({'suicides_no' : 'sum', 'CapitalLongitude': 'mean', 'CapitalLatitude': 'mean'})\n",
    "suicide_by_country = combined_data_by_country.to_json()\n"
   ]
  },
  {
   "cell_type": "code",
   "execution_count": null,
   "metadata": {},
   "outputs": [],
   "source": [
    "\n",
    "import sqlalchemy\n",
    "from sqlalchemy.ext.automap import automap_base\n",
    "from sqlalchemy.orm import Session\n",
    "from sqlalchemy import create_engine\n",
    "cz\n",
    "\n",
    "engine = create_engine('post')\n",
    "df_suicide_rates_df = df.read_sql('select * from suicides_rates_db', engine)"
   ]
  }
 ],
 "metadata": {
  "kernelspec": {
   "display_name": "Python 3",
   "language": "python",
   "name": "python3"
  },
  "language_info": {
   "codemirror_mode": {
    "name": "ipython",
    "version": 3
   },
   "file_extension": ".py",
   "mimetype": "text/x-python",
   "name": "python",
   "nbconvert_exporter": "python",
   "pygments_lexer": "ipython3",
   "version": "3.6.8"
  }
 },
 "nbformat": 4,
 "nbformat_minor": 2
}
